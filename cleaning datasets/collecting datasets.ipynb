{
 "cells": [
  {
   "cell_type": "code",
   "execution_count": 1,
   "metadata": {},
   "outputs": [],
   "source": [
    "import pandas as pd\n",
    "import xlwings as xw\n",
    "import msoffcrypto\n",
    "import io"
   ]
  },
  {
   "cell_type": "code",
   "execution_count": 2,
   "metadata": {},
   "outputs": [],
   "source": [
    "coltekin = pd.read_table(\"troff-v1.0.tsv\")"
   ]
  },
  {
   "cell_type": "code",
   "execution_count": 3,
   "metadata": {},
   "outputs": [
    {
     "data": {
      "text/html": [
       "<div>\n",
       "<style scoped>\n",
       "    .dataframe tbody tr th:only-of-type {\n",
       "        vertical-align: middle;\n",
       "    }\n",
       "\n",
       "    .dataframe tbody tr th {\n",
       "        vertical-align: top;\n",
       "    }\n",
       "\n",
       "    .dataframe thead th {\n",
       "        text-align: right;\n",
       "    }\n",
       "</style>\n",
       "<table border=\"1\" class=\"dataframe\">\n",
       "  <thead>\n",
       "    <tr style=\"text-align: right;\">\n",
       "      <th></th>\n",
       "      <th>id</th>\n",
       "      <th>timestamp</th>\n",
       "      <th>text</th>\n",
       "      <th>label</th>\n",
       "    </tr>\n",
       "  </thead>\n",
       "  <tbody>\n",
       "    <tr>\n",
       "      <th>0</th>\n",
       "      <td>973568937593065472</td>\n",
       "      <td>1520952977415</td>\n",
       "      <td>@USER06095 Hırsız demişken Tuncay sizin şu 1.2...</td>\n",
       "      <td>grp</td>\n",
       "    </tr>\n",
       "    <tr>\n",
       "      <th>1</th>\n",
       "      <td>973568937723035648</td>\n",
       "      <td>1520952977446</td>\n",
       "      <td>Ne bileyim sen hastayım deyince bende veterine...</td>\n",
       "      <td>ind</td>\n",
       "    </tr>\n",
       "    <tr>\n",
       "      <th>2</th>\n",
       "      <td>973568937911873536</td>\n",
       "      <td>1520952977491</td>\n",
       "      <td>Akşam eve gittiğimizde yorgunluğuma iyi gelece...</td>\n",
       "      <td>grp</td>\n",
       "    </tr>\n",
       "    <tr>\n",
       "      <th>3</th>\n",
       "      <td>973568939925090304</td>\n",
       "      <td>1520952977971</td>\n",
       "      <td>Kook’un sesini 18381 kez dinledikten sonra eğe...</td>\n",
       "      <td>prof</td>\n",
       "    </tr>\n",
       "    <tr>\n",
       "      <th>4</th>\n",
       "      <td>973568940667539457</td>\n",
       "      <td>1520952978148</td>\n",
       "      <td>@USER05270 @USER04816 o macta adam 6 7 tane ne...</td>\n",
       "      <td>grp</td>\n",
       "    </tr>\n",
       "    <tr>\n",
       "      <th>...</th>\n",
       "      <td>...</td>\n",
       "      <td>...</td>\n",
       "      <td>...</td>\n",
       "      <td>...</td>\n",
       "    </tr>\n",
       "    <tr>\n",
       "      <th>35279</th>\n",
       "      <td>1178770821470412806</td>\n",
       "      <td>1569876918998</td>\n",
       "      <td>Great Priest elmalara pot basıyor</td>\n",
       "      <td>non</td>\n",
       "    </tr>\n",
       "    <tr>\n",
       "      <th>35280</th>\n",
       "      <td>1178772855028436993</td>\n",
       "      <td>1569877403836</td>\n",
       "      <td>Alkollüyken yazmaya harika bir çözüm sunuyorum...</td>\n",
       "      <td>non</td>\n",
       "    </tr>\n",
       "    <tr>\n",
       "      <th>35281</th>\n",
       "      <td>1178774590958559234</td>\n",
       "      <td>1569877817714</td>\n",
       "      <td>@USER10875 Cvp vermek istemedim ama dayanamıyo...</td>\n",
       "      <td>ind</td>\n",
       "    </tr>\n",
       "    <tr>\n",
       "      <th>35282</th>\n",
       "      <td>1178780674305777665</td>\n",
       "      <td>1569879268097</td>\n",
       "      <td>Bazı takip ettiğim kişileri aha bu da hasta am...</td>\n",
       "      <td>ind</td>\n",
       "    </tr>\n",
       "    <tr>\n",
       "      <th>35283</th>\n",
       "      <td>1178781361089462272</td>\n",
       "      <td>1569879431839</td>\n",
       "      <td>@USER00863 allah akıl fakirliği vermesin geri ...</td>\n",
       "      <td>non</td>\n",
       "    </tr>\n",
       "  </tbody>\n",
       "</table>\n",
       "<p>35284 rows × 4 columns</p>\n",
       "</div>"
      ],
      "text/plain": [
       "                        id      timestamp  \\\n",
       "0       973568937593065472  1520952977415   \n",
       "1       973568937723035648  1520952977446   \n",
       "2       973568937911873536  1520952977491   \n",
       "3       973568939925090304  1520952977971   \n",
       "4       973568940667539457  1520952978148   \n",
       "...                    ...            ...   \n",
       "35279  1178770821470412806  1569876918998   \n",
       "35280  1178772855028436993  1569877403836   \n",
       "35281  1178774590958559234  1569877817714   \n",
       "35282  1178780674305777665  1569879268097   \n",
       "35283  1178781361089462272  1569879431839   \n",
       "\n",
       "                                                    text label  \n",
       "0      @USER06095 Hırsız demişken Tuncay sizin şu 1.2...   grp  \n",
       "1      Ne bileyim sen hastayım deyince bende veterine...   ind  \n",
       "2      Akşam eve gittiğimizde yorgunluğuma iyi gelece...   grp  \n",
       "3      Kook’un sesini 18381 kez dinledikten sonra eğe...  prof  \n",
       "4      @USER05270 @USER04816 o macta adam 6 7 tane ne...   grp  \n",
       "...                                                  ...   ...  \n",
       "35279                  Great Priest elmalara pot basıyor   non  \n",
       "35280  Alkollüyken yazmaya harika bir çözüm sunuyorum...   non  \n",
       "35281  @USER10875 Cvp vermek istemedim ama dayanamıyo...   ind  \n",
       "35282  Bazı takip ettiğim kişileri aha bu da hasta am...   ind  \n",
       "35283  @USER00863 allah akıl fakirliği vermesin geri ...   non  \n",
       "\n",
       "[35284 rows x 4 columns]"
      ]
     },
     "execution_count": 3,
     "metadata": {},
     "output_type": "execute_result"
    }
   ],
   "source": [
    "coltekin"
   ]
  },
  {
   "cell_type": "code",
   "execution_count": 4,
   "metadata": {},
   "outputs": [
    {
     "data": {
      "text/plain": [
       "array(['grp', 'ind', 'prof', 'non', 'oth'], dtype=object)"
      ]
     },
     "execution_count": 4,
     "metadata": {},
     "output_type": "execute_result"
    }
   ],
   "source": [
    "coltekin[\"label\"].unique()"
   ]
  },
  {
   "cell_type": "markdown",
   "metadata": {},
   "source": [
    "non-> not offensive \n",
    "\n",
    "prof-> profanity, or non-targeted offense\n",
    "\n",
    "grp-> offense towards a group\n",
    "\n",
    "indv-> offense towards an individual\n",
    "\n",
    "oth-> offense towards an other (non-human) entity, often an event or organization"
   ]
  },
  {
   "cell_type": "code",
   "execution_count": 5,
   "metadata": {},
   "outputs": [
    {
     "name": "stdout",
     "output_type": "stream",
     "text": [
      "Requirement already satisfied: msoffcrypto-tool in /Users/nilakay/.local/lib/python3.8/site-packages (5.0.0)\n",
      "Requirement already satisfied: cryptography>=2.3 in /Users/nilakay/opt/anaconda3/lib/python3.8/site-packages (from msoffcrypto-tool) (2.9.2)\n",
      "Requirement already satisfied: olefile>=0.45 in /Users/nilakay/opt/anaconda3/lib/python3.8/site-packages (from msoffcrypto-tool) (0.46)\n",
      "Requirement already satisfied: six>=1.4.1 in /Users/nilakay/opt/anaconda3/lib/python3.8/site-packages (from cryptography>=2.3->msoffcrypto-tool) (1.12.0)\n",
      "Requirement already satisfied: cffi!=1.11.3,>=1.8 in /Users/nilakay/opt/anaconda3/lib/python3.8/site-packages (from cryptography>=2.3->msoffcrypto-tool) (1.14.0)\n",
      "Requirement already satisfied: pycparser in /Users/nilakay/opt/anaconda3/lib/python3.8/site-packages (from cffi!=1.11.3,>=1.8->cryptography>=2.3->msoffcrypto-tool) (2.20)\n",
      "Note: you may need to restart the kernel to use updated packages.\n"
     ]
    }
   ],
   "source": [
    "pip install msoffcrypto-tool"
   ]
  },
  {
   "cell_type": "code",
   "execution_count": 6,
   "metadata": {},
   "outputs": [],
   "source": [
    "temp = io.BytesIO()"
   ]
  },
  {
   "cell_type": "code",
   "execution_count": 7,
   "metadata": {},
   "outputs": [],
   "source": [
    "with open('HATC.xlsx', 'rb') as f:\n",
    "    excel = msoffcrypto.OfficeFile(f)\n",
    "    excel.load_key('HATC')\n",
    "    excel.decrypt(temp)\n",
    "\n",
    "hatc = pd.read_excel(temp)\n",
    "del temp"
   ]
  },
  {
   "cell_type": "code",
   "execution_count": 8,
   "metadata": {},
   "outputs": [
    {
     "data": {
      "text/html": [
       "<div>\n",
       "<style scoped>\n",
       "    .dataframe tbody tr th:only-of-type {\n",
       "        vertical-align: middle;\n",
       "    }\n",
       "\n",
       "    .dataframe tbody tr th {\n",
       "        vertical-align: top;\n",
       "    }\n",
       "\n",
       "    .dataframe thead th {\n",
       "        text-align: right;\n",
       "    }\n",
       "</style>\n",
       "<table border=\"1\" class=\"dataframe\">\n",
       "  <thead>\n",
       "    <tr style=\"text-align: right;\">\n",
       "      <th></th>\n",
       "      <th>message</th>\n",
       "      <th>label</th>\n",
       "    </tr>\n",
       "  </thead>\n",
       "  <tbody>\n",
       "    <tr>\n",
       "      <th>0</th>\n",
       "      <td>çünkü bunu allah yaratmadı allah 2 cinsiyet ya...</td>\n",
       "      <td>2</td>\n",
       "    </tr>\n",
       "    <tr>\n",
       "      <th>1</th>\n",
       "      <td>bun dişi mi erkekmi</td>\n",
       "      <td>2</td>\n",
       "    </tr>\n",
       "    <tr>\n",
       "      <th>2</th>\n",
       "      <td>erkek ama durum bu</td>\n",
       "      <td>2</td>\n",
       "    </tr>\n",
       "    <tr>\n",
       "      <th>3</th>\n",
       "      <td>Lan top</td>\n",
       "      <td>2</td>\n",
       "    </tr>\n",
       "    <tr>\n",
       "      <th>4</th>\n",
       "      <td>Topi topp</td>\n",
       "      <td>2</td>\n",
       "    </tr>\n",
       "    <tr>\n",
       "      <th>...</th>\n",
       "      <td>...</td>\n",
       "      <td>...</td>\n",
       "    </tr>\n",
       "    <tr>\n",
       "      <th>31285</th>\n",
       "      <td>emine.sunan12Merhabalar arkadaşlar bu paylaşım...</td>\n",
       "      <td>0</td>\n",
       "    </tr>\n",
       "    <tr>\n",
       "      <th>31286</th>\n",
       "      <td>iremmkrtls 👌🏽👌🏽</td>\n",
       "      <td>0</td>\n",
       "    </tr>\n",
       "    <tr>\n",
       "      <th>31287</th>\n",
       "      <td>jila88.j@ayferserbestt ay gülmekten karnima ağ...</td>\n",
       "      <td>0</td>\n",
       "    </tr>\n",
       "    <tr>\n",
       "      <th>31288</th>\n",
       "      <td>#FAA</td>\n",
       "      <td>0</td>\n",
       "    </tr>\n",
       "    <tr>\n",
       "      <th>31289</th>\n",
       "      <td>ntkm1234 Çağlada estetik yok botoks var kadın ...</td>\n",
       "      <td>0</td>\n",
       "    </tr>\n",
       "  </tbody>\n",
       "</table>\n",
       "<p>31290 rows × 2 columns</p>\n",
       "</div>"
      ],
      "text/plain": [
       "                                                 message  label\n",
       "0      çünkü bunu allah yaratmadı allah 2 cinsiyet ya...      2\n",
       "1                                    bun dişi mi erkekmi      2\n",
       "2                                     erkek ama durum bu      2\n",
       "3                                                Lan top      2\n",
       "4                                              Topi topp      2\n",
       "...                                                  ...    ...\n",
       "31285  emine.sunan12Merhabalar arkadaşlar bu paylaşım...      0\n",
       "31286                                    iremmkrtls 👌🏽👌🏽      0\n",
       "31287  jila88.j@ayferserbestt ay gülmekten karnima ağ...      0\n",
       "31288                                               #FAA      0\n",
       "31289  ntkm1234 Çağlada estetik yok botoks var kadın ...      0\n",
       "\n",
       "[31290 rows x 2 columns]"
      ]
     },
     "execution_count": 8,
     "metadata": {},
     "output_type": "execute_result"
    }
   ],
   "source": [
    "hatc"
   ]
  },
  {
   "cell_type": "code",
   "execution_count": 9,
   "metadata": {},
   "outputs": [
    {
     "data": {
      "text/plain": [
       "array([2, 1, 0])"
      ]
     },
     "execution_count": 9,
     "metadata": {},
     "output_type": "execute_result"
    }
   ],
   "source": [
    "hatc[\"label\"].unique()"
   ]
  },
  {
   "cell_type": "markdown",
   "metadata": {},
   "source": [
    "0-> non off\n",
    "\n",
    "1 -> off\n",
    "\n",
    "2 -> homofobic"
   ]
  },
  {
   "cell_type": "code",
   "execution_count": 10,
   "metadata": {},
   "outputs": [],
   "source": [
    "kaggle = pd.read_csv(\"turkish_tweets_2020.csv\")"
   ]
  },
  {
   "cell_type": "code",
   "execution_count": 11,
   "metadata": {},
   "outputs": [
    {
     "data": {
      "text/html": [
       "<div>\n",
       "<style scoped>\n",
       "    .dataframe tbody tr th:only-of-type {\n",
       "        vertical-align: middle;\n",
       "    }\n",
       "\n",
       "    .dataframe tbody tr th {\n",
       "        vertical-align: top;\n",
       "    }\n",
       "\n",
       "    .dataframe thead th {\n",
       "        text-align: right;\n",
       "    }\n",
       "</style>\n",
       "<table border=\"1\" class=\"dataframe\">\n",
       "  <thead>\n",
       "    <tr style=\"text-align: right;\">\n",
       "      <th></th>\n",
       "      <th>text</th>\n",
       "      <th>label</th>\n",
       "    </tr>\n",
       "  </thead>\n",
       "  <tbody>\n",
       "    <tr>\n",
       "      <th>0</th>\n",
       "      <td>edit: bu adam dururken başkan gene melih olurs...</td>\n",
       "      <td>0</td>\n",
       "    </tr>\n",
       "    <tr>\n",
       "      <th>1</th>\n",
       "      <td>ahah kuduruyoruz ya amk çomarı biz bu ülkeden ...</td>\n",
       "      <td>1</td>\n",
       "    </tr>\n",
       "    <tr>\n",
       "      <th>2</th>\n",
       "      <td>Sınıf gruplarındaki insanlar beyinsiz felan he...</td>\n",
       "      <td>1</td>\n",
       "    </tr>\n",
       "    <tr>\n",
       "      <th>3</th>\n",
       "      <td>boğaziçi köprüsünde duran tanklar ( eğer ses t...</td>\n",
       "      <td>0</td>\n",
       "    </tr>\n",
       "    <tr>\n",
       "      <th>4</th>\n",
       "      <td>Sevişirler evlenmezler, hamile kalır doğurmazl...</td>\n",
       "      <td>1</td>\n",
       "    </tr>\n",
       "    <tr>\n",
       "      <th>...</th>\n",
       "      <td>...</td>\n",
       "      <td>...</td>\n",
       "    </tr>\n",
       "    <tr>\n",
       "      <th>5077</th>\n",
       "      <td>yapmayan yalan soyluyordur</td>\n",
       "      <td>0</td>\n",
       "    </tr>\n",
       "    <tr>\n",
       "      <th>5078</th>\n",
       "      <td>Nediyonla piç kurusu bugün pazar git ayasofya ...</td>\n",
       "      <td>1</td>\n",
       "    </tr>\n",
       "    <tr>\n",
       "      <th>5079</th>\n",
       "      <td>Bunu düşünen, destekleyen, ihaleyi açan, açtır...</td>\n",
       "      <td>1</td>\n",
       "    </tr>\n",
       "    <tr>\n",
       "      <th>5080</th>\n",
       "      <td>sadece 45 dakikada girdiğimiz gol pozisyonu sa...</td>\n",
       "      <td>1</td>\n",
       "    </tr>\n",
       "    <tr>\n",
       "      <th>5081</th>\n",
       "      <td>ellerindeki en büyük koz genelkurmay başkan'ı....</td>\n",
       "      <td>1</td>\n",
       "    </tr>\n",
       "  </tbody>\n",
       "</table>\n",
       "<p>5082 rows × 2 columns</p>\n",
       "</div>"
      ],
      "text/plain": [
       "                                                   text  label\n",
       "0     edit: bu adam dururken başkan gene melih olurs...      0\n",
       "1     ahah kuduruyoruz ya amk çomarı biz bu ülkeden ...      1\n",
       "2     Sınıf gruplarındaki insanlar beyinsiz felan he...      1\n",
       "3     boğaziçi köprüsünde duran tanklar ( eğer ses t...      0\n",
       "4     Sevişirler evlenmezler, hamile kalır doğurmazl...      1\n",
       "...                                                 ...    ...\n",
       "5077                         yapmayan yalan soyluyordur      0\n",
       "5078  Nediyonla piç kurusu bugün pazar git ayasofya ...      1\n",
       "5079  Bunu düşünen, destekleyen, ihaleyi açan, açtır...      1\n",
       "5080  sadece 45 dakikada girdiğimiz gol pozisyonu sa...      1\n",
       "5081  ellerindeki en büyük koz genelkurmay başkan'ı....      1\n",
       "\n",
       "[5082 rows x 2 columns]"
      ]
     },
     "execution_count": 11,
     "metadata": {},
     "output_type": "execute_result"
    }
   ],
   "source": [
    "kaggle"
   ]
  },
  {
   "cell_type": "code",
   "execution_count": 12,
   "metadata": {},
   "outputs": [
    {
     "data": {
      "text/plain": [
       "array([0, 1])"
      ]
     },
     "execution_count": 12,
     "metadata": {},
     "output_type": "execute_result"
    }
   ],
   "source": [
    "kaggle[\"label\"].unique() #0 non-off, 1 off"
   ]
  },
  {
   "cell_type": "code",
   "execution_count": 13,
   "metadata": {},
   "outputs": [],
   "source": [
    "coltekin = coltekin.drop([\"id\",\"timestamp\"],axis=1)"
   ]
  },
  {
   "cell_type": "code",
   "execution_count": 14,
   "metadata": {},
   "outputs": [
    {
     "data": {
      "text/html": [
       "<div>\n",
       "<style scoped>\n",
       "    .dataframe tbody tr th:only-of-type {\n",
       "        vertical-align: middle;\n",
       "    }\n",
       "\n",
       "    .dataframe tbody tr th {\n",
       "        vertical-align: top;\n",
       "    }\n",
       "\n",
       "    .dataframe thead th {\n",
       "        text-align: right;\n",
       "    }\n",
       "</style>\n",
       "<table border=\"1\" class=\"dataframe\">\n",
       "  <thead>\n",
       "    <tr style=\"text-align: right;\">\n",
       "      <th></th>\n",
       "      <th>text</th>\n",
       "      <th>label</th>\n",
       "    </tr>\n",
       "  </thead>\n",
       "  <tbody>\n",
       "    <tr>\n",
       "      <th>0</th>\n",
       "      <td>@USER06095 Hırsız demişken Tuncay sizin şu 1.2...</td>\n",
       "      <td>grp</td>\n",
       "    </tr>\n",
       "    <tr>\n",
       "      <th>1</th>\n",
       "      <td>Ne bileyim sen hastayım deyince bende veterine...</td>\n",
       "      <td>ind</td>\n",
       "    </tr>\n",
       "    <tr>\n",
       "      <th>2</th>\n",
       "      <td>Akşam eve gittiğimizde yorgunluğuma iyi gelece...</td>\n",
       "      <td>grp</td>\n",
       "    </tr>\n",
       "    <tr>\n",
       "      <th>3</th>\n",
       "      <td>Kook’un sesini 18381 kez dinledikten sonra eğe...</td>\n",
       "      <td>prof</td>\n",
       "    </tr>\n",
       "    <tr>\n",
       "      <th>4</th>\n",
       "      <td>@USER05270 @USER04816 o macta adam 6 7 tane ne...</td>\n",
       "      <td>grp</td>\n",
       "    </tr>\n",
       "    <tr>\n",
       "      <th>...</th>\n",
       "      <td>...</td>\n",
       "      <td>...</td>\n",
       "    </tr>\n",
       "    <tr>\n",
       "      <th>35279</th>\n",
       "      <td>Great Priest elmalara pot basıyor</td>\n",
       "      <td>non</td>\n",
       "    </tr>\n",
       "    <tr>\n",
       "      <th>35280</th>\n",
       "      <td>Alkollüyken yazmaya harika bir çözüm sunuyorum...</td>\n",
       "      <td>non</td>\n",
       "    </tr>\n",
       "    <tr>\n",
       "      <th>35281</th>\n",
       "      <td>@USER10875 Cvp vermek istemedim ama dayanamıyo...</td>\n",
       "      <td>ind</td>\n",
       "    </tr>\n",
       "    <tr>\n",
       "      <th>35282</th>\n",
       "      <td>Bazı takip ettiğim kişileri aha bu da hasta am...</td>\n",
       "      <td>ind</td>\n",
       "    </tr>\n",
       "    <tr>\n",
       "      <th>35283</th>\n",
       "      <td>@USER00863 allah akıl fakirliği vermesin geri ...</td>\n",
       "      <td>non</td>\n",
       "    </tr>\n",
       "  </tbody>\n",
       "</table>\n",
       "<p>35284 rows × 2 columns</p>\n",
       "</div>"
      ],
      "text/plain": [
       "                                                    text label\n",
       "0      @USER06095 Hırsız demişken Tuncay sizin şu 1.2...   grp\n",
       "1      Ne bileyim sen hastayım deyince bende veterine...   ind\n",
       "2      Akşam eve gittiğimizde yorgunluğuma iyi gelece...   grp\n",
       "3      Kook’un sesini 18381 kez dinledikten sonra eğe...  prof\n",
       "4      @USER05270 @USER04816 o macta adam 6 7 tane ne...   grp\n",
       "...                                                  ...   ...\n",
       "35279                  Great Priest elmalara pot basıyor   non\n",
       "35280  Alkollüyken yazmaya harika bir çözüm sunuyorum...   non\n",
       "35281  @USER10875 Cvp vermek istemedim ama dayanamıyo...   ind\n",
       "35282  Bazı takip ettiğim kişileri aha bu da hasta am...   ind\n",
       "35283  @USER00863 allah akıl fakirliği vermesin geri ...   non\n",
       "\n",
       "[35284 rows x 2 columns]"
      ]
     },
     "execution_count": 14,
     "metadata": {},
     "output_type": "execute_result"
    }
   ],
   "source": [
    "coltekin"
   ]
  },
  {
   "cell_type": "code",
   "execution_count": 15,
   "metadata": {},
   "outputs": [
    {
     "data": {
      "text/plain": [
       "'grp'"
      ]
     },
     "execution_count": 15,
     "metadata": {},
     "output_type": "execute_result"
    }
   ],
   "source": [
    "coltekin[\"label\"].iloc[0]"
   ]
  },
  {
   "cell_type": "code",
   "execution_count": 16,
   "metadata": {},
   "outputs": [],
   "source": [
    "for i,x in enumerate(coltekin[\"label\"]):\n",
    "    if x == \"non\":\n",
    "        coltekin[\"label\"].iloc[i] = 0\n",
    "    else:\n",
    "        coltekin[\"label\"].iloc[i] = 1"
   ]
  },
  {
   "cell_type": "code",
   "execution_count": 17,
   "metadata": {},
   "outputs": [
    {
     "data": {
      "text/html": [
       "<div>\n",
       "<style scoped>\n",
       "    .dataframe tbody tr th:only-of-type {\n",
       "        vertical-align: middle;\n",
       "    }\n",
       "\n",
       "    .dataframe tbody tr th {\n",
       "        vertical-align: top;\n",
       "    }\n",
       "\n",
       "    .dataframe thead th {\n",
       "        text-align: right;\n",
       "    }\n",
       "</style>\n",
       "<table border=\"1\" class=\"dataframe\">\n",
       "  <thead>\n",
       "    <tr style=\"text-align: right;\">\n",
       "      <th></th>\n",
       "      <th>text</th>\n",
       "      <th>label</th>\n",
       "    </tr>\n",
       "  </thead>\n",
       "  <tbody>\n",
       "    <tr>\n",
       "      <th>0</th>\n",
       "      <td>@USER06095 Hırsız demişken Tuncay sizin şu 1.2...</td>\n",
       "      <td>1</td>\n",
       "    </tr>\n",
       "    <tr>\n",
       "      <th>1</th>\n",
       "      <td>Ne bileyim sen hastayım deyince bende veterine...</td>\n",
       "      <td>1</td>\n",
       "    </tr>\n",
       "    <tr>\n",
       "      <th>2</th>\n",
       "      <td>Akşam eve gittiğimizde yorgunluğuma iyi gelece...</td>\n",
       "      <td>1</td>\n",
       "    </tr>\n",
       "    <tr>\n",
       "      <th>3</th>\n",
       "      <td>Kook’un sesini 18381 kez dinledikten sonra eğe...</td>\n",
       "      <td>1</td>\n",
       "    </tr>\n",
       "    <tr>\n",
       "      <th>4</th>\n",
       "      <td>@USER05270 @USER04816 o macta adam 6 7 tane ne...</td>\n",
       "      <td>1</td>\n",
       "    </tr>\n",
       "    <tr>\n",
       "      <th>...</th>\n",
       "      <td>...</td>\n",
       "      <td>...</td>\n",
       "    </tr>\n",
       "    <tr>\n",
       "      <th>35279</th>\n",
       "      <td>Great Priest elmalara pot basıyor</td>\n",
       "      <td>0</td>\n",
       "    </tr>\n",
       "    <tr>\n",
       "      <th>35280</th>\n",
       "      <td>Alkollüyken yazmaya harika bir çözüm sunuyorum...</td>\n",
       "      <td>0</td>\n",
       "    </tr>\n",
       "    <tr>\n",
       "      <th>35281</th>\n",
       "      <td>@USER10875 Cvp vermek istemedim ama dayanamıyo...</td>\n",
       "      <td>1</td>\n",
       "    </tr>\n",
       "    <tr>\n",
       "      <th>35282</th>\n",
       "      <td>Bazı takip ettiğim kişileri aha bu da hasta am...</td>\n",
       "      <td>1</td>\n",
       "    </tr>\n",
       "    <tr>\n",
       "      <th>35283</th>\n",
       "      <td>@USER00863 allah akıl fakirliği vermesin geri ...</td>\n",
       "      <td>0</td>\n",
       "    </tr>\n",
       "  </tbody>\n",
       "</table>\n",
       "<p>35284 rows × 2 columns</p>\n",
       "</div>"
      ],
      "text/plain": [
       "                                                    text label\n",
       "0      @USER06095 Hırsız demişken Tuncay sizin şu 1.2...     1\n",
       "1      Ne bileyim sen hastayım deyince bende veterine...     1\n",
       "2      Akşam eve gittiğimizde yorgunluğuma iyi gelece...     1\n",
       "3      Kook’un sesini 18381 kez dinledikten sonra eğe...     1\n",
       "4      @USER05270 @USER04816 o macta adam 6 7 tane ne...     1\n",
       "...                                                  ...   ...\n",
       "35279                  Great Priest elmalara pot basıyor     0\n",
       "35280  Alkollüyken yazmaya harika bir çözüm sunuyorum...     0\n",
       "35281  @USER10875 Cvp vermek istemedim ama dayanamıyo...     1\n",
       "35282  Bazı takip ettiğim kişileri aha bu da hasta am...     1\n",
       "35283  @USER00863 allah akıl fakirliği vermesin geri ...     0\n",
       "\n",
       "[35284 rows x 2 columns]"
      ]
     },
     "execution_count": 17,
     "metadata": {},
     "output_type": "execute_result"
    }
   ],
   "source": [
    "coltekin"
   ]
  },
  {
   "cell_type": "code",
   "execution_count": 18,
   "metadata": {},
   "outputs": [
    {
     "data": {
      "text/html": [
       "<div>\n",
       "<style scoped>\n",
       "    .dataframe tbody tr th:only-of-type {\n",
       "        vertical-align: middle;\n",
       "    }\n",
       "\n",
       "    .dataframe tbody tr th {\n",
       "        vertical-align: top;\n",
       "    }\n",
       "\n",
       "    .dataframe thead th {\n",
       "        text-align: right;\n",
       "    }\n",
       "</style>\n",
       "<table border=\"1\" class=\"dataframe\">\n",
       "  <thead>\n",
       "    <tr style=\"text-align: right;\">\n",
       "      <th></th>\n",
       "      <th>message</th>\n",
       "      <th>label</th>\n",
       "    </tr>\n",
       "  </thead>\n",
       "  <tbody>\n",
       "    <tr>\n",
       "      <th>0</th>\n",
       "      <td>çünkü bunu allah yaratmadı allah 2 cinsiyet ya...</td>\n",
       "      <td>2</td>\n",
       "    </tr>\n",
       "    <tr>\n",
       "      <th>1</th>\n",
       "      <td>bun dişi mi erkekmi</td>\n",
       "      <td>2</td>\n",
       "    </tr>\n",
       "    <tr>\n",
       "      <th>2</th>\n",
       "      <td>erkek ama durum bu</td>\n",
       "      <td>2</td>\n",
       "    </tr>\n",
       "    <tr>\n",
       "      <th>3</th>\n",
       "      <td>Lan top</td>\n",
       "      <td>2</td>\n",
       "    </tr>\n",
       "    <tr>\n",
       "      <th>4</th>\n",
       "      <td>Topi topp</td>\n",
       "      <td>2</td>\n",
       "    </tr>\n",
       "    <tr>\n",
       "      <th>...</th>\n",
       "      <td>...</td>\n",
       "      <td>...</td>\n",
       "    </tr>\n",
       "    <tr>\n",
       "      <th>31285</th>\n",
       "      <td>emine.sunan12Merhabalar arkadaşlar bu paylaşım...</td>\n",
       "      <td>0</td>\n",
       "    </tr>\n",
       "    <tr>\n",
       "      <th>31286</th>\n",
       "      <td>iremmkrtls 👌🏽👌🏽</td>\n",
       "      <td>0</td>\n",
       "    </tr>\n",
       "    <tr>\n",
       "      <th>31287</th>\n",
       "      <td>jila88.j@ayferserbestt ay gülmekten karnima ağ...</td>\n",
       "      <td>0</td>\n",
       "    </tr>\n",
       "    <tr>\n",
       "      <th>31288</th>\n",
       "      <td>#FAA</td>\n",
       "      <td>0</td>\n",
       "    </tr>\n",
       "    <tr>\n",
       "      <th>31289</th>\n",
       "      <td>ntkm1234 Çağlada estetik yok botoks var kadın ...</td>\n",
       "      <td>0</td>\n",
       "    </tr>\n",
       "  </tbody>\n",
       "</table>\n",
       "<p>31290 rows × 2 columns</p>\n",
       "</div>"
      ],
      "text/plain": [
       "                                                 message  label\n",
       "0      çünkü bunu allah yaratmadı allah 2 cinsiyet ya...      2\n",
       "1                                    bun dişi mi erkekmi      2\n",
       "2                                     erkek ama durum bu      2\n",
       "3                                                Lan top      2\n",
       "4                                              Topi topp      2\n",
       "...                                                  ...    ...\n",
       "31285  emine.sunan12Merhabalar arkadaşlar bu paylaşım...      0\n",
       "31286                                    iremmkrtls 👌🏽👌🏽      0\n",
       "31287  jila88.j@ayferserbestt ay gülmekten karnima ağ...      0\n",
       "31288                                               #FAA      0\n",
       "31289  ntkm1234 Çağlada estetik yok botoks var kadın ...      0\n",
       "\n",
       "[31290 rows x 2 columns]"
      ]
     },
     "execution_count": 18,
     "metadata": {},
     "output_type": "execute_result"
    }
   ],
   "source": [
    "hatc"
   ]
  },
  {
   "cell_type": "code",
   "execution_count": 19,
   "metadata": {},
   "outputs": [
    {
     "name": "stderr",
     "output_type": "stream",
     "text": [
      "/Users/nilakay/opt/anaconda3/lib/python3.8/site-packages/pandas/core/indexing.py:670: SettingWithCopyWarning: \n",
      "A value is trying to be set on a copy of a slice from a DataFrame\n",
      "\n",
      "See the caveats in the documentation: https://pandas.pydata.org/pandas-docs/stable/user_guide/indexing.html#returning-a-view-versus-a-copy\n",
      "  iloc._setitem_with_indexer(indexer, value)\n"
     ]
    }
   ],
   "source": [
    "for i,x in enumerate(hatc[\"label\"]):\n",
    "    if x == 2:\n",
    "        hatc[\"label\"].iloc[i] = 1"
   ]
  },
  {
   "cell_type": "code",
   "execution_count": 20,
   "metadata": {},
   "outputs": [
    {
     "data": {
      "text/html": [
       "<div>\n",
       "<style scoped>\n",
       "    .dataframe tbody tr th:only-of-type {\n",
       "        vertical-align: middle;\n",
       "    }\n",
       "\n",
       "    .dataframe tbody tr th {\n",
       "        vertical-align: top;\n",
       "    }\n",
       "\n",
       "    .dataframe thead th {\n",
       "        text-align: right;\n",
       "    }\n",
       "</style>\n",
       "<table border=\"1\" class=\"dataframe\">\n",
       "  <thead>\n",
       "    <tr style=\"text-align: right;\">\n",
       "      <th></th>\n",
       "      <th>message</th>\n",
       "      <th>label</th>\n",
       "    </tr>\n",
       "  </thead>\n",
       "  <tbody>\n",
       "    <tr>\n",
       "      <th>0</th>\n",
       "      <td>çünkü bunu allah yaratmadı allah 2 cinsiyet ya...</td>\n",
       "      <td>1</td>\n",
       "    </tr>\n",
       "    <tr>\n",
       "      <th>1</th>\n",
       "      <td>bun dişi mi erkekmi</td>\n",
       "      <td>1</td>\n",
       "    </tr>\n",
       "    <tr>\n",
       "      <th>2</th>\n",
       "      <td>erkek ama durum bu</td>\n",
       "      <td>1</td>\n",
       "    </tr>\n",
       "    <tr>\n",
       "      <th>3</th>\n",
       "      <td>Lan top</td>\n",
       "      <td>1</td>\n",
       "    </tr>\n",
       "    <tr>\n",
       "      <th>4</th>\n",
       "      <td>Topi topp</td>\n",
       "      <td>1</td>\n",
       "    </tr>\n",
       "    <tr>\n",
       "      <th>...</th>\n",
       "      <td>...</td>\n",
       "      <td>...</td>\n",
       "    </tr>\n",
       "    <tr>\n",
       "      <th>31285</th>\n",
       "      <td>emine.sunan12Merhabalar arkadaşlar bu paylaşım...</td>\n",
       "      <td>0</td>\n",
       "    </tr>\n",
       "    <tr>\n",
       "      <th>31286</th>\n",
       "      <td>iremmkrtls 👌🏽👌🏽</td>\n",
       "      <td>0</td>\n",
       "    </tr>\n",
       "    <tr>\n",
       "      <th>31287</th>\n",
       "      <td>jila88.j@ayferserbestt ay gülmekten karnima ağ...</td>\n",
       "      <td>0</td>\n",
       "    </tr>\n",
       "    <tr>\n",
       "      <th>31288</th>\n",
       "      <td>#FAA</td>\n",
       "      <td>0</td>\n",
       "    </tr>\n",
       "    <tr>\n",
       "      <th>31289</th>\n",
       "      <td>ntkm1234 Çağlada estetik yok botoks var kadın ...</td>\n",
       "      <td>0</td>\n",
       "    </tr>\n",
       "  </tbody>\n",
       "</table>\n",
       "<p>31290 rows × 2 columns</p>\n",
       "</div>"
      ],
      "text/plain": [
       "                                                 message  label\n",
       "0      çünkü bunu allah yaratmadı allah 2 cinsiyet ya...      1\n",
       "1                                    bun dişi mi erkekmi      1\n",
       "2                                     erkek ama durum bu      1\n",
       "3                                                Lan top      1\n",
       "4                                              Topi topp      1\n",
       "...                                                  ...    ...\n",
       "31285  emine.sunan12Merhabalar arkadaşlar bu paylaşım...      0\n",
       "31286                                    iremmkrtls 👌🏽👌🏽      0\n",
       "31287  jila88.j@ayferserbestt ay gülmekten karnima ağ...      0\n",
       "31288                                               #FAA      0\n",
       "31289  ntkm1234 Çağlada estetik yok botoks var kadın ...      0\n",
       "\n",
       "[31290 rows x 2 columns]"
      ]
     },
     "execution_count": 20,
     "metadata": {},
     "output_type": "execute_result"
    }
   ],
   "source": [
    "hatc"
   ]
  },
  {
   "cell_type": "code",
   "execution_count": 21,
   "metadata": {},
   "outputs": [
    {
     "data": {
      "text/plain": [
       "0    19827\n",
       "1    11463\n",
       "Name: label, dtype: int64"
      ]
     },
     "execution_count": 21,
     "metadata": {},
     "output_type": "execute_result"
    }
   ],
   "source": [
    "hatc[\"label\"].value_counts()"
   ]
  },
  {
   "cell_type": "code",
   "execution_count": 22,
   "metadata": {},
   "outputs": [
    {
     "data": {
      "text/plain": [
       "0    28439\n",
       "1     6845\n",
       "Name: label, dtype: int64"
      ]
     },
     "execution_count": 22,
     "metadata": {},
     "output_type": "execute_result"
    }
   ],
   "source": [
    "coltekin[\"label\"].value_counts()"
   ]
  },
  {
   "cell_type": "code",
   "execution_count": 23,
   "metadata": {},
   "outputs": [
    {
     "data": {
      "text/plain": [
       "0    3009\n",
       "1    2073\n",
       "Name: label, dtype: int64"
      ]
     },
     "execution_count": 23,
     "metadata": {},
     "output_type": "execute_result"
    }
   ],
   "source": [
    "kaggle[\"label\"].value_counts()"
   ]
  },
  {
   "cell_type": "code",
   "execution_count": 24,
   "metadata": {},
   "outputs": [],
   "source": [
    "coltekin.to_csv('coltekin.csv', header=True,index=False)"
   ]
  },
  {
   "cell_type": "code",
   "execution_count": 25,
   "metadata": {},
   "outputs": [],
   "source": [
    "kaggle.to_csv('kaggle.csv', header=True,index=False)"
   ]
  },
  {
   "cell_type": "code",
   "execution_count": 26,
   "metadata": {},
   "outputs": [],
   "source": [
    "hatc[\"message\"] = [i.replace('\\ud83d', ' ') for i in hatc[\"message\"]]\n",
    "hatc[\"message\"] = [i.replace('\\ude09', ' ') for i in hatc[\"message\"]]\n",
    "hatc[\"message\"] = [i.replace('\\udc4f', ' ') for i in hatc[\"message\"]]\n",
    "hatc[\"message\"] = [i.replace('\\udca5', ' ') for i in hatc[\"message\"]]\n",
    "hatc[\"message\"] = [i.replace('\\ud83c', ' ') for i in hatc[\"message\"]]"
   ]
  },
  {
   "cell_type": "code",
   "execution_count": 27,
   "metadata": {},
   "outputs": [],
   "source": [
    "hatc = hatc.rename(columns={\"message\": \"text\"})"
   ]
  },
  {
   "cell_type": "code",
   "execution_count": 28,
   "metadata": {},
   "outputs": [],
   "source": [
    "hatc.to_csv('hatc.csv', header=True,index=False)"
   ]
  }
 ],
 "metadata": {
  "kernelspec": {
   "display_name": "Python 3",
   "language": "python",
   "name": "python3"
  },
  "language_info": {
   "codemirror_mode": {
    "name": "ipython",
    "version": 3
   },
   "file_extension": ".py",
   "mimetype": "text/x-python",
   "name": "python",
   "nbconvert_exporter": "python",
   "pygments_lexer": "ipython3",
   "version": "3.8.3"
  }
 },
 "nbformat": 4,
 "nbformat_minor": 4
}
