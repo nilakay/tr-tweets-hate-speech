{
 "cells": [
  {
   "cell_type": "code",
   "execution_count": 3,
   "id": "7f16b241",
   "metadata": {
    "_cell_guid": "b1076dfc-b9ad-4769-8c92-a6c4dae69d19",
    "_uuid": "8f2839f25d086af736a60e9eeb907d3b93b6e0e5",
    "execution": {
     "iopub.execute_input": "2022-11-30T11:15:11.969558Z",
     "iopub.status.busy": "2022-11-30T11:15:11.968275Z",
     "iopub.status.idle": "2022-11-30T11:15:21.776984Z",
     "shell.execute_reply": "2022-11-30T11:15:21.777461Z",
     "shell.execute_reply.started": "2022-11-28T16:41:55.180822Z"
    },
    "papermill": {
     "duration": 9.842511,
     "end_time": "2022-11-30T11:15:21.777718",
     "exception": false,
     "start_time": "2022-11-30T11:15:11.935207",
     "status": "completed"
    },
    "tags": []
   },
   "outputs": [
    {
     "name": "stderr",
     "output_type": "stream",
     "text": [
      "2022-11-30 11:15:13.937918: W tensorflow/stream_executor/platform/default/dso_loader.cc:60] Could not load dynamic library 'libcudart.so.11.0'; dlerror: libcudart.so.11.0: cannot open shared object file: No such file or directory; LD_LIBRARY_PATH: /opt/conda/lib\n",
      "2022-11-30 11:15:13.938119: I tensorflow/stream_executor/cuda/cudart_stub.cc:29] Ignore above cudart dlerror if you do not have a GPU set up on your machine.\n"
     ]
    },
    {
     "name": "stdout",
     "output_type": "stream",
     "text": [
      "/kaggle/input/dataset/coltekin.csv\n",
      "/kaggle/input/dataset/hatc.csv\n",
      "/kaggle/input/dataset/kaggle.csv\n",
      "/kaggle/input/ensemble/ensemble.csv\n"
     ]
    }
   ],
   "source": [
    "import numpy as np # linear algebra\n",
    "import pandas as pd # data processing, CSV file I/O (e.g. pd.read_csv)\n",
    "\n",
    "#For EDA\n",
    "import matplotlib.pyplot as plt\n",
    "import seaborn as sns\n",
    "\n",
    "# Packages for general use throughout the notebook.\n",
    "import random\n",
    "import warnings\n",
    "import time\n",
    "%matplotlib inline\n",
    "from sklearn.model_selection import train_test_split\n",
    "\n",
    "# to see columns properly\n",
    "pd.set_option('display.max_colwidth', None)\n",
    "\n",
    "# for build our model\n",
    "import tensorflow as tf\n",
    "from tensorflow.keras.layers import Add, GlobalAvgPool1D, MaxPool1D, Activation, BatchNormalization, Embedding, LSTM, Dense, Bidirectional, Input, SpatialDropout1D, Dropout, Conv1D\n",
    "from tensorflow.keras import Model\n",
    "from transformers import BertTokenizer, TFBertModel\n",
    "from tensorflow.keras.activations import relu\n",
    "\n",
    "from sklearn.metrics import confusion_matrix, classification_report, accuracy_score, precision_score, recall_score, f1_score\n",
    "\n",
    "#!pip install datasets\n",
    "from datasets import load_dataset\n",
    "\n",
    "# Input data files are available in the read-only \"../input/\" directory\n",
    "import os\n",
    "for dirname, _, filenames in os.walk('/kaggle/input'):\n",
    "    for filename in filenames:\n",
    "        print(os.path.join(dirname, filename))"
   ]
  },
  {
   "cell_type": "markdown",
   "id": "6f341357",
   "metadata": {
    "execution": {
     "iopub.execute_input": "2022-11-28T06:44:39.827709Z",
     "iopub.status.busy": "2022-11-28T06:44:39.826452Z",
     "iopub.status.idle": "2022-11-28T06:44:40.076080Z",
     "shell.execute_reply": "2022-11-28T06:44:40.075181Z",
     "shell.execute_reply.started": "2022-11-28T06:44:39.827669Z"
    },
    "papermill": {
     "duration": 0.028881,
     "end_time": "2022-11-30T11:15:21.837485",
     "exception": false,
     "start_time": "2022-11-30T11:15:21.808604",
     "status": "completed"
    },
    "tags": []
   },
   "source": [
    "from transformers import logging\n",
    "logging.set_verbosity_warning()"
   ]
  },
  {
   "cell_type": "code",
   "execution_count": 4,
   "id": "fe5fc51a",
   "metadata": {
    "execution": {
     "iopub.execute_input": "2022-11-30T11:15:21.899857Z",
     "iopub.status.busy": "2022-11-30T11:15:21.898844Z",
     "iopub.status.idle": "2022-11-30T11:15:21.998463Z",
     "shell.execute_reply": "2022-11-30T11:15:21.999058Z",
     "shell.execute_reply.started": "2022-11-28T16:42:05.332090Z"
    },
    "papermill": {
     "duration": 0.132583,
     "end_time": "2022-11-30T11:15:21.999251",
     "exception": false,
     "start_time": "2022-11-30T11:15:21.866668",
     "status": "completed"
    },
    "tags": []
   },
   "outputs": [
    {
     "data": {
      "text/html": [
       "<div>\n",
       "<style scoped>\n",
       "    .dataframe tbody tr th:only-of-type {\n",
       "        vertical-align: middle;\n",
       "    }\n",
       "\n",
       "    .dataframe tbody tr th {\n",
       "        vertical-align: top;\n",
       "    }\n",
       "\n",
       "    .dataframe thead th {\n",
       "        text-align: right;\n",
       "    }\n",
       "</style>\n",
       "<table border=\"1\" class=\"dataframe\">\n",
       "  <thead>\n",
       "    <tr style=\"text-align: right;\">\n",
       "      <th></th>\n",
       "      <th>Unnamed: 0</th>\n",
       "      <th>text</th>\n",
       "      <th>label</th>\n",
       "    </tr>\n",
       "  </thead>\n",
       "  <tbody>\n",
       "    <tr>\n",
       "      <th>0</th>\n",
       "      <td>0</td>\n",
       "      <td>Uyanır uyanmaz Hakan Muhafız yeni sezonu izliyorum. Kimse Netflix sevdamızı sorgulamasın.</td>\n",
       "      <td>0</td>\n",
       "    </tr>\n",
       "    <tr>\n",
       "      <th>1</th>\n",
       "      <td>1</td>\n",
       "      <td>damla.demir.92 Hiç şaşırmadım 🙄</td>\n",
       "      <td>0</td>\n",
       "    </tr>\n",
       "    <tr>\n",
       "      <th>2</th>\n",
       "      <td>2</td>\n",
       "      <td>emrehanmüzik Çok tatlı bir bayan</td>\n",
       "      <td>0</td>\n",
       "    </tr>\n",
       "    <tr>\n",
       "      <th>3</th>\n",
       "      <td>3</td>\n",
       "      <td>ornegin bir dusunun, dogadaki fenomenleri anlayip analiz edebilecek bir bilinc olmazsa, kim cikip “dogada matematik var” diyecek?</td>\n",
       "      <td>0</td>\n",
       "    </tr>\n",
       "    <tr>\n",
       "      <th>4</th>\n",
       "      <td>4</td>\n",
       "      <td>bir çoğumuzun hala izlerken kahkaha atarak seyrettiği kibar feyzo filminin şanlıurfa harran'da değil de hatay reyhanlı'ya bağlı harran köyünde çekildiğini öğrenmem olmuştur.</td>\n",
       "      <td>0</td>\n",
       "    </tr>\n",
       "    <tr>\n",
       "      <th>...</th>\n",
       "      <td>...</td>\n",
       "      <td>...</td>\n",
       "      <td>...</td>\n",
       "    </tr>\n",
       "    <tr>\n",
       "      <th>9995</th>\n",
       "      <td>9995</td>\n",
       "      <td>Susuyorsak uysal koyun değiliz, vardır birilerinin hatrı.</td>\n",
       "      <td>0</td>\n",
       "    </tr>\n",
       "    <tr>\n",
       "      <th>9996</th>\n",
       "      <td>9996</td>\n",
       "      <td>judycfly@ilknur_srm  yiyoruz sana ne sanki sen çok temizsin</td>\n",
       "      <td>0</td>\n",
       "    </tr>\n",
       "    <tr>\n",
       "      <th>9997</th>\n",
       "      <td>9997</td>\n",
       "      <td>zeynep06gokdemir @elenargnya hadi naş klavye delikanlılığı yapma benim gibi delikanlı ol adres ver gel beyni yarrakla çalışan gurbetçi varoş seni😂😂😂</td>\n",
       "      <td>1</td>\n",
       "    </tr>\n",
       "    <tr>\n",
       "      <th>9998</th>\n",
       "      <td>9998</td>\n",
       "      <td>@USER08327 Harika görünüyor Sun cnm oyaragini saatlerce yalayıp yemek istiyorum köküne kadar</td>\n",
       "      <td>1</td>\n",
       "    </tr>\n",
       "    <tr>\n",
       "      <th>9999</th>\n",
       "      <td>9999</td>\n",
       "      <td>@USER13235 hatay cd pasif varmı gizlilik içinde görüşeceğim bugün</td>\n",
       "      <td>0</td>\n",
       "    </tr>\n",
       "  </tbody>\n",
       "</table>\n",
       "<p>10000 rows × 3 columns</p>\n",
       "</div>"
      ],
      "text/plain": [
       "      Unnamed: 0  \\\n",
       "0              0   \n",
       "1              1   \n",
       "2              2   \n",
       "3              3   \n",
       "4              4   \n",
       "...          ...   \n",
       "9995        9995   \n",
       "9996        9996   \n",
       "9997        9997   \n",
       "9998        9998   \n",
       "9999        9999   \n",
       "\n",
       "                                                                                                                                                                               text  \\\n",
       "0                                                                                         Uyanır uyanmaz Hakan Muhafız yeni sezonu izliyorum. Kimse Netflix sevdamızı sorgulamasın.   \n",
       "1                                                                                                                                                   damla.demir.92 Hiç şaşırmadım 🙄   \n",
       "2                                                                                                                                                  emrehanmüzik Çok tatlı bir bayan   \n",
       "3                                                 ornegin bir dusunun, dogadaki fenomenleri anlayip analiz edebilecek bir bilinc olmazsa, kim cikip “dogada matematik var” diyecek?   \n",
       "4     bir çoğumuzun hala izlerken kahkaha atarak seyrettiği kibar feyzo filminin şanlıurfa harran'da değil de hatay reyhanlı'ya bağlı harran köyünde çekildiğini öğrenmem olmuştur.   \n",
       "...                                                                                                                                                                             ...   \n",
       "9995                                                                                                                      Susuyorsak uysal koyun değiliz, vardır birilerinin hatrı.   \n",
       "9996                                                                                                                    judycfly@ilknur_srm  yiyoruz sana ne sanki sen çok temizsin   \n",
       "9997                           zeynep06gokdemir @elenargnya hadi naş klavye delikanlılığı yapma benim gibi delikanlı ol adres ver gel beyni yarrakla çalışan gurbetçi varoş seni😂😂😂   \n",
       "9998                                                                                   @USER08327 Harika görünüyor Sun cnm oyaragini saatlerce yalayıp yemek istiyorum köküne kadar   \n",
       "9999                                                                                                              @USER13235 hatay cd pasif varmı gizlilik içinde görüşeceğim bugün   \n",
       "\n",
       "      label  \n",
       "0         0  \n",
       "1         0  \n",
       "2         0  \n",
       "3         0  \n",
       "4         0  \n",
       "...     ...  \n",
       "9995      0  \n",
       "9996      0  \n",
       "9997      1  \n",
       "9998      1  \n",
       "9999      0  \n",
       "\n",
       "[10000 rows x 3 columns]"
      ]
     },
     "execution_count": 4,
     "metadata": {},
     "output_type": "execute_result"
    }
   ],
   "source": [
    "df = pd.read_csv(\"/kaggle/input/ensemble/ensemble.csv\")\n",
    "df"
   ]
  },
  {
   "cell_type": "code",
   "execution_count": 5,
   "id": "cee8ad31",
   "metadata": {
    "execution": {
     "iopub.execute_input": "2022-11-30T11:15:22.068678Z",
     "iopub.status.busy": "2022-11-30T11:15:22.067600Z",
     "iopub.status.idle": "2022-11-30T11:15:22.071118Z",
     "shell.execute_reply": "2022-11-30T11:15:22.071703Z",
     "shell.execute_reply.started": "2022-11-28T16:42:05.425824Z"
    },
    "papermill": {
     "duration": 0.042756,
     "end_time": "2022-11-30T11:15:22.071888",
     "exception": false,
     "start_time": "2022-11-30T11:15:22.029132",
     "status": "completed"
    },
    "tags": []
   },
   "outputs": [],
   "source": [
    "df = df.drop(\"Unnamed: 0\",axis=1)"
   ]
  },
  {
   "cell_type": "code",
   "execution_count": 6,
   "id": "3fac459d",
   "metadata": {
    "execution": {
     "iopub.execute_input": "2022-11-30T11:15:22.138353Z",
     "iopub.status.busy": "2022-11-30T11:15:22.137198Z",
     "iopub.status.idle": "2022-11-30T11:15:22.139246Z",
     "shell.execute_reply": "2022-11-30T11:15:22.139877Z",
     "shell.execute_reply.started": "2022-11-28T16:42:05.438871Z"
    },
    "papermill": {
     "duration": 0.03824,
     "end_time": "2022-11-30T11:15:22.140059",
     "exception": false,
     "start_time": "2022-11-30T11:15:22.101819",
     "status": "completed"
    },
    "tags": []
   },
   "outputs": [],
   "source": [
    "train = df[:8000]\n",
    "val = df[8000:9000]\n",
    "test = df[9000:]"
   ]
  },
  {
   "cell_type": "code",
   "execution_count": 7,
   "id": "6293deaf",
   "metadata": {
    "execution": {
     "iopub.execute_input": "2022-11-30T11:15:22.204587Z",
     "iopub.status.busy": "2022-11-30T11:15:22.203543Z",
     "iopub.status.idle": "2022-11-30T11:15:22.350106Z",
     "shell.execute_reply": "2022-11-30T11:15:22.350599Z",
     "shell.execute_reply.started": "2022-11-28T17:19:28.172757Z"
    },
    "papermill": {
     "duration": 0.180771,
     "end_time": "2022-11-30T11:15:22.350836",
     "exception": false,
     "start_time": "2022-11-30T11:15:22.170065",
     "status": "completed"
    },
    "tags": []
   },
   "outputs": [
    {
     "data": {
      "image/png": "[encoded data removed]",
      "text/plain": [
       "<Figure size 432x288 with 1 Axes>"
      ]
     },
     "metadata": {},
     "output_type": "display_data"
    }
   ],
   "source": [
    "colors=['deepskyblue', 'steelblue']\n",
    "cmap = plt.cm.prism\n",
    "plt.pie(train['label'].value_counts(),\n",
    "            labels=[\"Not Toxic\", \"Toxic\"],\n",
    "            autopct='%1.2f%%',\n",
    "            shadow=True,\n",
    "            colors=colors,\n",
    "            explode=(0.05, 0.05))\n",
    "plt.title('Distribution of the Tweets', fontsize=14)\n",
    "plt.show()"
   ]
  },
  {
   "cell_type": "code",
   "execution_count": 8,
   "id": "5d5202ea",
   "metadata": {
    "execution": {
     "iopub.execute_input": "2022-11-30T11:15:22.417702Z",
     "iopub.status.busy": "2022-11-30T11:15:22.416660Z",
     "iopub.status.idle": "2022-11-30T11:15:22.420875Z",
     "shell.execute_reply": "2022-11-30T11:15:22.421478Z",
     "shell.execute_reply.started": "2022-11-28T16:42:05.591665Z"
    },
    "papermill": {
     "duration": 0.04014,
     "end_time": "2022-11-30T11:15:22.421682",
     "exception": false,
     "start_time": "2022-11-30T11:15:22.381542",
     "status": "completed"
    },
    "tags": []
   },
   "outputs": [],
   "source": [
    "import os"
   ]
  },
  {
   "cell_type": "code",
   "execution_count": 9,
   "id": "10ddf42e",
   "metadata": {
    "execution": {
     "iopub.execute_input": "2022-11-30T11:15:22.489059Z",
     "iopub.status.busy": "2022-11-30T11:15:22.487875Z",
     "iopub.status.idle": "2022-11-30T11:15:29.043565Z",
     "shell.execute_reply": "2022-11-30T11:15:29.042932Z",
     "shell.execute_reply.started": "2022-11-28T16:42:05.600472Z"
    },
    "papermill": {
     "duration": 6.590621,
     "end_time": "2022-11-30T11:15:29.043731",
     "exception": false,
     "start_time": "2022-11-30T11:15:22.453110",
     "status": "completed"
    },
    "tags": []
   },
   "outputs": [
    {
     "name": "stderr",
     "output_type": "stream",
     "text": [
      "2022-11-30 11:15:22.495690: I tensorflow/compiler/jit/xla_cpu_device.cc:41] Not creating XLA devices, tf_xla_enable_xla_devices not set\n",
      "2022-11-30 11:15:22.499354: W tensorflow/stream_executor/platform/default/dso_loader.cc:60] Could not load dynamic library 'libcuda.so.1'; dlerror: libcuda.so.1: cannot open shared object file: No such file or directory; LD_LIBRARY_PATH: /opt/conda/lib\n",
      "2022-11-30 11:15:22.499397: W tensorflow/stream_executor/cuda/cuda_driver.cc:326] failed call to cuInit: UNKNOWN ERROR (303)\n",
      "2022-11-30 11:15:22.499425: I tensorflow/stream_executor/cuda/cuda_diagnostics.cc:156] kernel driver does not appear to be running on this host (74f419aed747): /proc/driver/nvidia/version does not exist\n",
      "2022-11-30 11:15:22.503297: I tensorflow/core/platform/cpu_feature_guard.cc:142] This TensorFlow binary is optimized with oneAPI Deep Neural Network Library (oneDNN) to use the following CPU instructions in performance-critical operations:  AVX2 FMA\n",
      "To enable them in other operations, rebuild TensorFlow with the appropriate compiler flags.\n",
      "2022-11-30 11:15:22.506193: I tensorflow/compiler/jit/xla_gpu_device.cc:99] Not creating XLA devices, tf_xla_enable_xla_devices not set\n",
      "2022-11-30 11:15:22.541440: I tensorflow/core/distributed_runtime/rpc/grpc_channel.cc:301] Initialize GrpcChannelCache for job worker -> {0 -> 10.0.0.2:8470}\n",
      "2022-11-30 11:15:22.541514: I tensorflow/core/distributed_runtime/rpc/grpc_channel.cc:301] Initialize GrpcChannelCache for job localhost -> {0 -> localhost:30019}\n",
      "2022-11-30 11:15:22.568408: I tensorflow/core/distributed_runtime/rpc/grpc_channel.cc:301] Initialize GrpcChannelCache for job worker -> {0 -> 10.0.0.2:8470}\n",
      "2022-11-30 11:15:22.568464: I tensorflow/core/distributed_runtime/rpc/grpc_channel.cc:301] Initialize GrpcChannelCache for job localhost -> {0 -> localhost:30019}\n",
      "2022-11-30 11:15:22.570060: I tensorflow/core/distributed_runtime/rpc/grpc_server_lib.cc:411] Started server with target: grpc://localhost:30019\n"
     ]
    }
   ],
   "source": [
    "os.environ[\"WANDB_API_KEY\"] = \"0\" ## to silence warning\n",
    "\n",
    "try:\n",
    "    tpu = tf.distribute.cluster_resolver.TPUClusterResolver()\n",
    "    tf.config.experimental_connect_to_cluster(tpu)\n",
    "    tf.tpu.experimental.initialize_tpu_system(tpu)\n",
    "    strategy = tf.distribute.experimental.TPUStrategy(tpu)\n",
    "except ValueError:\n",
    "    strategy = tf.distribute.get_strategy() # for CPU and single GPU\n",
    "    print('Number of replicas:', strategy.num_replicas_in_sync)"
   ]
  },
  {
   "cell_type": "code",
   "execution_count": 10,
   "id": "db24d7ec",
   "metadata": {
    "execution": {
     "iopub.execute_input": "2022-11-30T11:15:29.111965Z",
     "iopub.status.busy": "2022-11-30T11:15:29.111246Z",
     "iopub.status.idle": "2022-11-30T11:15:29.114858Z",
     "shell.execute_reply": "2022-11-30T11:15:29.114206Z",
     "shell.execute_reply.started": "2022-11-28T16:42:11.995417Z"
    },
    "papermill": {
     "duration": 0.039584,
     "end_time": "2022-11-30T11:15:29.115015",
     "exception": false,
     "start_time": "2022-11-30T11:15:29.075431",
     "status": "completed"
    },
    "tags": []
   },
   "outputs": [],
   "source": [
    "max_length = 200\n",
    "batch_size = 128"
   ]
  },
  {
   "cell_type": "code",
   "execution_count": 11,
   "id": "b92520c9",
   "metadata": {
    "execution": {
     "iopub.execute_input": "2022-11-30T11:15:29.185523Z",
     "iopub.status.busy": "2022-11-30T11:15:29.184789Z",
     "iopub.status.idle": "2022-11-30T11:15:30.851612Z",
     "shell.execute_reply": "2022-11-30T11:15:30.850926Z",
     "shell.execute_reply.started": "2022-11-28T16:42:12.001749Z"
    },
    "papermill": {
     "duration": 1.705848,
     "end_time": "2022-11-30T11:15:30.851793",
     "exception": false,
     "start_time": "2022-11-30T11:15:29.145945",
     "status": "completed"
    },
    "tags": []
   },
   "outputs": [
    {
     "data": {
      "application/vnd.jupyter.widget-view+json": {
       "model_id": "9189ad96734a47b088fa6961e95bf973",
       "version_major": 2,
       "version_minor": 0
      },
      "text/plain": [
       "Downloading:   0%|          | 0.00/1.23M [00:00<?, ?B/s]"
      ]
     },
     "metadata": {},
     "output_type": "display_data"
    },
    {
     "data": {
      "application/vnd.jupyter.widget-view+json": {
       "model_id": "7f0f071b01e74c97ab7c23ef68cadee1",
       "version_major": 2,
       "version_minor": 0
      },
      "text/plain": [
       "Downloading:   0%|          | 0.00/59.0 [00:00<?, ?B/s]"
      ]
     },
     "metadata": {},
     "output_type": "display_data"
    }
   ],
   "source": [
    "model_name = \"dbmdz/bert-base-turkish-128k-uncased\"\n",
    "tokenizer = BertTokenizer.from_pretrained(model_name)"
   ]
  },
  {
   "cell_type": "code",
   "execution_count": 12,
   "id": "9fca5b1a",
   "metadata": {
    "execution": {
     "iopub.execute_input": "2022-11-30T11:15:30.921695Z",
     "iopub.status.busy": "2022-11-30T11:15:30.920665Z",
     "iopub.status.idle": "2022-11-30T11:15:30.926241Z",
     "shell.execute_reply": "2022-11-30T11:15:30.926751Z",
     "shell.execute_reply.started": "2022-11-28T16:42:13.075582Z"
    },
    "papermill": {
     "duration": 0.041968,
     "end_time": "2022-11-30T11:15:30.926950",
     "exception": false,
     "start_time": "2022-11-30T11:15:30.884982",
     "status": "completed"
    },
    "tags": []
   },
   "outputs": [],
   "source": [
    "def bert_encode(data):\n",
    "    tokens = tokenizer.batch_encode_plus(data, max_length=max_length, padding='max_length', truncation=True)\n",
    "    \n",
    "    return tf.constant(tokens['input_ids'])"
   ]
  },
  {
   "cell_type": "code",
   "execution_count": 13,
   "id": "18151856",
   "metadata": {
    "execution": {
     "iopub.execute_input": "2022-11-30T11:15:31.005238Z",
     "iopub.status.busy": "2022-11-30T11:15:31.004487Z",
     "iopub.status.idle": "2022-11-30T11:15:38.165214Z",
     "shell.execute_reply": "2022-11-30T11:15:38.164499Z",
     "shell.execute_reply.started": "2022-11-28T16:42:13.084189Z"
    },
    "papermill": {
     "duration": 7.206621,
     "end_time": "2022-11-30T11:15:38.165366",
     "exception": false,
     "start_time": "2022-11-30T11:15:30.958745",
     "status": "completed"
    },
    "tags": []
   },
   "outputs": [],
   "source": [
    "train_encoded = bert_encode(train.text)\n",
    "val_encoded = bert_encode(val.text)\n",
    "\n",
    "train_dataset = (\n",
    "    tf.data.Dataset\n",
    "    .from_tensor_slices((train_encoded, train.label))\n",
    "    .shuffle(64)\n",
    "    .batch(batch_size)\n",
    ")\n",
    "\n",
    "val_dataset = (\n",
    "    tf.data.Dataset\n",
    "   .from_tensor_slices((val_encoded, val.label))\n",
    "   .shuffle(64)\n",
    "   .batch(batch_size)\n",
    ")\n"
   ]
  },
  {
   "cell_type": "code",
   "execution_count": 14,
   "id": "967fdd5a",
   "metadata": {
    "execution": {
     "iopub.execute_input": "2022-11-30T11:15:38.238044Z",
     "iopub.status.busy": "2022-11-30T11:15:38.237263Z",
     "iopub.status.idle": "2022-11-30T11:15:38.240322Z",
     "shell.execute_reply": "2022-11-30T11:15:38.239729Z",
     "shell.execute_reply.started": "2022-11-28T16:42:18.947138Z"
    },
    "papermill": {
     "duration": 0.042446,
     "end_time": "2022-11-30T11:15:38.240476",
     "exception": false,
     "start_time": "2022-11-30T11:15:38.198030",
     "status": "completed"
    },
    "tags": []
   },
   "outputs": [],
   "source": [
    "def model():\n",
    "    \n",
    "    bert_encoder = TFBertModel.from_pretrained(model_name)\n",
    "    input_word_ids = Input(shape=(max_length,), dtype=tf.int32, name=\"input_ids\")\n",
    "    last_hidden_states = bert_encoder(input_word_ids)[0]\n",
    "    x = SpatialDropout1D(0.2)(last_hidden_states)\n",
    "    x = Conv1D(32, 3, activation='relu', padding='same')(x)\n",
    "    x = Bidirectional(LSTM(100, dropout=0.2, recurrent_dropout=0.2))(x)\n",
    "    x = Dropout(0.1)(x)\n",
    "    outputs = Dense(1, activation='sigmoid')(x)\n",
    "    model = Model(input_word_ids, outputs)\n",
    "    \n",
    "    return model"
   ]
  },
  {
   "cell_type": "code",
   "execution_count": 15,
   "id": "92636a46",
   "metadata": {
    "execution": {
     "iopub.execute_input": "2022-11-30T11:15:38.312877Z",
     "iopub.status.busy": "2022-11-30T11:15:38.312128Z",
     "iopub.status.idle": "2022-11-30T11:16:50.642169Z",
     "shell.execute_reply": "2022-11-30T11:16:50.642785Z",
     "shell.execute_reply.started": "2022-11-28T16:42:18.954286Z"
    },
    "papermill": {
     "duration": 72.370812,
     "end_time": "2022-11-30T11:16:50.643190",
     "exception": false,
     "start_time": "2022-11-30T11:15:38.272378",
     "status": "completed"
    },
    "tags": []
   },
   "outputs": [
    {
     "data": {
      "application/vnd.jupyter.widget-view+json": {
       "model_id": "16ab1531e69e4588a72f063ebad67062",
       "version_major": 2,
       "version_minor": 0
      },
      "text/plain": [
       "Downloading:   0%|          | 0.00/386 [00:00<?, ?B/s]"
      ]
     },
     "metadata": {},
     "output_type": "display_data"
    },
    {
     "data": {
      "application/vnd.jupyter.widget-view+json": {
       "model_id": "333c07018ea44abc9969a2c8bf3797cd",
       "version_major": 2,
       "version_minor": 0
      },
      "text/plain": [
       "Downloading:   0%|          | 0.00/1.14G [00:00<?, ?B/s]"
      ]
     },
     "metadata": {},
     "output_type": "display_data"
    },
    {
     "name": "stderr",
     "output_type": "stream",
     "text": [
      "Some layers from the model checkpoint at dbmdz/bert-base-turkish-128k-uncased were not used when initializing TFBertModel: ['mlm___cls', 'nsp___cls']\n",
      "- This IS expected if you are initializing TFBertModel from the checkpoint of a model trained on another task or with another architecture (e.g. initializing a BertForSequenceClassification model from a BertForPreTraining model).\n",
      "- This IS NOT expected if you are initializing TFBertModel from the checkpoint of a model that you expect to be exactly identical (initializing a BertForSequenceClassification model from a BertForSequenceClassification model).\n",
      "All the layers of TFBertModel were initialized from the model checkpoint at dbmdz/bert-base-turkish-128k-uncased.\n",
      "If your task is similar to the task the model of the checkpoint was trained on, you can already use TFBertModel for predictions without further training.\n"
     ]
    },
    {
     "name": "stdout",
     "output_type": "stream",
     "text": [
      "Model: \"model\"\n",
      "_________________________________________________________________\n",
      "Layer (type)                 Output Shape              Param #   \n",
      "=================================================================\n",
      "input_ids (InputLayer)       [(None, 200)]             0         \n",
      "_________________________________________________________________\n",
      "tf_bert_model (TFBertModel)  TFBaseModelOutputWithPool 184345344 \n",
      "_________________________________________________________________\n",
      "spatial_dropout1d (SpatialDr (None, 200, 768)          0         \n",
      "_________________________________________________________________\n",
      "conv1d (Conv1D)              (None, 200, 32)           73760     \n",
      "_________________________________________________________________\n",
      "bidirectional (Bidirectional (None, 200)               106400    \n",
      "_________________________________________________________________\n",
      "dropout_37 (Dropout)         (None, 200)               0         \n",
      "_________________________________________________________________\n",
      "dense (Dense)                (None, 1)                 201       \n",
      "=================================================================\n",
      "Total params: 184,525,705\n",
      "Trainable params: 184,525,705\n",
      "Non-trainable params: 0\n",
      "_________________________________________________________________\n"
     ]
    }
   ],
   "source": [
    "with strategy.scope():\n",
    "    model = model()\n",
    "    adam_optimizer = tf.keras.optimizers.Adam(learning_rate=1e-5)\n",
    "    model.compile(loss='binary_crossentropy' , optimizer=adam_optimizer, metrics=['accuracy'])\n",
    "    model.summary()"
   ]
  },
  {
   "cell_type": "code",
   "execution_count": 16,
   "id": "15ecb382",
   "metadata": {
    "execution": {
     "iopub.execute_input": "2022-11-30T11:16:50.716245Z",
     "iopub.status.busy": "2022-11-30T11:16:50.715418Z",
     "iopub.status.idle": "2022-11-30T11:16:50.719155Z",
     "shell.execute_reply": "2022-11-30T11:16:50.719738Z",
     "shell.execute_reply.started": "2022-11-28T16:43:21.771966Z"
    },
    "papermill": {
     "duration": 0.042896,
     "end_time": "2022-11-30T11:16:50.719927",
     "exception": false,
     "start_time": "2022-11-30T11:16:50.677031",
     "status": "completed"
    },
    "tags": []
   },
   "outputs": [],
   "source": [
    "#model.compile için if döncek sadece loss=\"binary...\" değişçek"
   ]
  },
  {
   "cell_type": "code",
   "execution_count": 17,
   "id": "0df97a30",
   "metadata": {
    "execution": {
     "iopub.execute_input": "2022-11-30T11:16:50.791482Z",
     "iopub.status.busy": "2022-11-30T11:16:50.790786Z",
     "iopub.status.idle": "2022-11-30T11:16:50.795221Z",
     "shell.execute_reply": "2022-11-30T11:16:50.795899Z",
     "shell.execute_reply.started": "2022-11-28T16:43:21.780669Z"
    },
    "papermill": {
     "duration": 0.041923,
     "end_time": "2022-11-30T11:16:50.796103",
     "exception": false,
     "start_time": "2022-11-30T11:16:50.754180",
     "status": "completed"
    },
    "tags": []
   },
   "outputs": [],
   "source": [
    "from tensorflow.keras.callbacks import ReduceLROnPlateau, EarlyStopping\n",
    "\n",
    "callbacks = [ReduceLROnPlateau(monitor='val_loss', patience=5, cooldown=0),\n",
    "              EarlyStopping(monitor='val_acc', min_delta=1e-5, patience=5)]"
   ]
  },
  {
   "cell_type": "code",
   "execution_count": 18,
   "id": "de0ec4d2",
   "metadata": {
    "execution": {
     "iopub.execute_input": "2022-11-30T11:16:50.871330Z",
     "iopub.status.busy": "2022-11-30T11:16:50.866939Z",
     "iopub.status.idle": "2022-11-30T11:20:34.524325Z",
     "shell.execute_reply": "2022-11-30T11:20:34.525591Z",
     "shell.execute_reply.started": "2022-11-28T16:43:21.794818Z"
    },
    "papermill": {
     "duration": 223.696125,
     "end_time": "2022-11-30T11:20:34.525935",
     "exception": false,
     "start_time": "2022-11-30T11:16:50.829810",
     "status": "completed"
    },
    "tags": []
   },
   "outputs": [
    {
     "name": "stdout",
     "output_type": "stream",
     "text": [
      "Epoch 1/8\n",
      "63/63 [==============================] - 146s 1s/step - loss: 0.6841 - accuracy: 0.5512 - val_loss: 0.5044 - val_accuracy: 0.8060\n",
      "Epoch 2/8\n",
      "63/63 [==============================] - 11s 167ms/step - loss: 0.4569 - accuracy: 0.8228 - val_loss: 0.3236 - val_accuracy: 0.8700\n",
      "Epoch 3/8\n",
      "63/63 [==============================] - 11s 167ms/step - loss: 0.3314 - accuracy: 0.8760 - val_loss: 0.2822 - val_accuracy: 0.8910\n",
      "Epoch 4/8\n",
      "63/63 [==============================] - 11s 168ms/step - loss: 0.2799 - accuracy: 0.8980 - val_loss: 0.2640 - val_accuracy: 0.8970\n",
      "Epoch 5/8\n",
      "63/63 [==============================] - 11s 168ms/step - loss: 0.2539 - accuracy: 0.9133 - val_loss: 0.2697 - val_accuracy: 0.8970\n",
      "Epoch 6/8\n",
      "63/63 [==============================] - 11s 169ms/step - loss: 0.2201 - accuracy: 0.9288 - val_loss: 0.2655 - val_accuracy: 0.9030\n",
      "Epoch 7/8\n",
      "63/63 [==============================] - 11s 168ms/step - loss: 0.2039 - accuracy: 0.9288 - val_loss: 0.2782 - val_accuracy: 0.8990\n",
      "Epoch 8/8\n",
      "63/63 [==============================] - 11s 168ms/step - loss: 0.1741 - accuracy: 0.9468 - val_loss: 0.3198 - val_accuracy: 0.8910\n"
     ]
    }
   ],
   "source": [
    "# Start train\n",
    "history = model.fit(\n",
    "    train_dataset,\n",
    "    batch_size=batch_size,\n",
    "    epochs=8,\n",
    "    validation_data=val_dataset,\n",
    "    verbose=1,\n",
    "    callbacks = callbacks)"
   ]
  },
  {
   "cell_type": "code",
   "execution_count": 19,
   "id": "d6fb7ee6",
   "metadata": {
    "execution": {
     "iopub.execute_input": "2022-11-30T11:20:34.942493Z",
     "iopub.status.busy": "2022-11-30T11:20:34.941842Z",
     "iopub.status.idle": "2022-11-30T11:20:34.944601Z",
     "shell.execute_reply": "2022-11-30T11:20:34.943945Z",
     "shell.execute_reply.started": "2022-11-28T16:46:58.952819Z"
    },
    "papermill": {
     "duration": 0.201448,
     "end_time": "2022-11-30T11:20:34.944771",
     "exception": false,
     "start_time": "2022-11-30T11:20:34.743323",
     "status": "completed"
    },
    "tags": []
   },
   "outputs": [],
   "source": [
    "#epoch =1 batchsize=1 olcak"
   ]
  },
  {
   "cell_type": "code",
   "execution_count": 20,
   "id": "a4fa3658",
   "metadata": {
    "execution": {
     "iopub.execute_input": "2022-11-30T11:20:35.318293Z",
     "iopub.status.busy": "2022-11-30T11:20:35.312282Z",
     "iopub.status.idle": "2022-11-30T11:20:38.706718Z",
     "shell.execute_reply": "2022-11-30T11:20:38.705908Z",
     "shell.execute_reply.started": "2022-11-28T16:46:58.959306Z"
    },
    "papermill": {
     "duration": 3.581349,
     "end_time": "2022-11-30T11:20:38.706885",
     "exception": false,
     "start_time": "2022-11-30T11:20:35.125536",
     "status": "completed"
    },
    "tags": []
   },
   "outputs": [],
   "source": [
    "model.save_weights(f'offensive_weights_new_train.h5')"
   ]
  },
  {
   "cell_type": "code",
   "execution_count": 21,
   "id": "0510914b",
   "metadata": {
    "execution": {
     "iopub.execute_input": "2022-11-30T11:20:39.074503Z",
     "iopub.status.busy": "2022-11-30T11:20:39.073808Z",
     "iopub.status.idle": "2022-11-30T11:20:39.574959Z",
     "shell.execute_reply": "2022-11-30T11:20:39.574322Z",
     "shell.execute_reply.started": "2022-11-28T16:47:01.395872Z"
    },
    "papermill": {
     "duration": 0.686751,
     "end_time": "2022-11-30T11:20:39.575137",
     "exception": false,
     "start_time": "2022-11-30T11:20:38.888386",
     "status": "completed"
    },
    "tags": []
   },
   "outputs": [
    {
     "data": {
      "image/png": "[encoded data removed]",
      "text/plain": [
       "<Figure size 432x288 with 1 Axes>"
      ]
     },
     "metadata": {
      "needs_background": "light"
     },
     "output_type": "display_data"
    },
    {
     "data": {
      "image/png": "[encoded data removed]",
      "text/plain": [
       "<Figure size 432x288 with 1 Axes>"
      ]
     },
     "metadata": {
      "needs_background": "light"
     },
     "output_type": "display_data"
    }
   ],
   "source": [
    "def plot_graphs(history, string):\n",
    "    plt.plot(history.history[string])\n",
    "    plt.plot(history.history['val_'+string])\n",
    "    plt.xlabel(\"Epochs\")\n",
    "    plt.ylabel(string)\n",
    "    plt.legend([string, 'val_'+string])\n",
    "    plt.show()\n",
    "plot_graphs(history, \"accuracy\")\n",
    "plot_graphs(history, \"loss\")"
   ]
  },
  {
   "cell_type": "code",
   "execution_count": 22,
   "id": "96b695ac",
   "metadata": {
    "execution": {
     "iopub.execute_input": "2022-11-30T11:20:40.128892Z",
     "iopub.status.busy": "2022-11-30T11:20:40.128137Z",
     "iopub.status.idle": "2022-11-30T11:20:55.246268Z",
     "shell.execute_reply": "2022-11-30T11:20:55.244758Z",
     "shell.execute_reply.started": "2022-11-28T16:47:01.780594Z"
    },
    "papermill": {
     "duration": 15.492817,
     "end_time": "2022-11-30T11:20:55.246461",
     "exception": false,
     "start_time": "2022-11-30T11:20:39.753644",
     "status": "completed"
    },
    "tags": []
   },
   "outputs": [],
   "source": [
    "model.load_weights('/kaggle/working/offensive_weights_new_train.h5')"
   ]
  },
  {
   "cell_type": "code",
   "execution_count": 23,
   "id": "19eb24f0",
   "metadata": {
    "execution": {
     "iopub.execute_input": "2022-11-30T11:20:55.639894Z",
     "iopub.status.busy": "2022-11-30T11:20:55.617259Z",
     "iopub.status.idle": "2022-11-30T11:20:55.648801Z",
     "shell.execute_reply": "2022-11-30T11:20:55.649476Z",
     "shell.execute_reply.started": "2022-11-28T16:47:06.478497Z"
    },
    "papermill": {
     "duration": 0.220469,
     "end_time": "2022-11-30T11:20:55.649727",
     "exception": false,
     "start_time": "2022-11-30T11:20:55.429258",
     "status": "completed"
    },
    "tags": []
   },
   "outputs": [
    {
     "name": "stdout",
     "output_type": "stream",
     "text": [
      "Model: \"model\"\n",
      "_________________________________________________________________\n",
      "Layer (type)                 Output Shape              Param #   \n",
      "=================================================================\n",
      "input_ids (InputLayer)       [(None, 200)]             0         \n",
      "_________________________________________________________________\n",
      "tf_bert_model (TFBertModel)  TFBaseModelOutputWithPool 184345344 \n",
      "_________________________________________________________________\n",
      "spatial_dropout1d (SpatialDr (None, 200, 768)          0         \n",
      "_________________________________________________________________\n",
      "conv1d (Conv1D)              (None, 200, 32)           73760     \n",
      "_________________________________________________________________\n",
      "bidirectional (Bidirectional (None, 200)               106400    \n",
      "_________________________________________________________________\n",
      "dropout_37 (Dropout)         (None, 200)               0         \n",
      "_________________________________________________________________\n",
      "dense (Dense)                (None, 1)                 201       \n",
      "=================================================================\n",
      "Total params: 184,525,705\n",
      "Trainable params: 184,525,705\n",
      "Non-trainable params: 0\n",
      "_________________________________________________________________\n"
     ]
    }
   ],
   "source": [
    "model.summary()"
   ]
  },
  {
   "cell_type": "code",
   "execution_count": 24,
   "id": "a22ab86c",
   "metadata": {
    "execution": {
     "iopub.execute_input": "2022-11-30T11:20:56.025574Z",
     "iopub.status.busy": "2022-11-30T11:20:56.024886Z",
     "iopub.status.idle": "2022-11-30T11:20:56.029064Z",
     "shell.execute_reply": "2022-11-30T11:20:56.028324Z",
     "shell.execute_reply.started": "2022-11-28T16:47:06.514601Z"
    },
    "papermill": {
     "duration": 0.195969,
     "end_time": "2022-11-30T11:20:56.029219",
     "exception": false,
     "start_time": "2022-11-30T11:20:55.833250",
     "status": "completed"
    },
    "tags": []
   },
   "outputs": [],
   "source": [
    "from sklearn.metrics import plot_confusion_matrix"
   ]
  },
  {
   "cell_type": "code",
   "execution_count": 25,
   "id": "112387ca",
   "metadata": {
    "execution": {
     "iopub.execute_input": "2022-11-30T11:20:56.428440Z",
     "iopub.status.busy": "2022-11-30T11:20:56.427671Z",
     "iopub.status.idle": "2022-11-30T11:20:57.196180Z",
     "shell.execute_reply": "2022-11-30T11:20:57.195364Z",
     "shell.execute_reply.started": "2022-11-28T16:47:06.526792Z"
    },
    "papermill": {
     "duration": 0.979182,
     "end_time": "2022-11-30T11:20:57.196370",
     "exception": false,
     "start_time": "2022-11-30T11:20:56.217188",
     "status": "completed"
    },
    "tags": []
   },
   "outputs": [],
   "source": [
    "test_encoded = bert_encode(test.text)\n",
    "\n",
    "test_dataset = (\n",
    "    tf.data.Dataset\n",
    "    .from_tensor_slices(test_encoded)\n",
    "    .batch(batch_size)\n",
    ")"
   ]
  },
  {
   "cell_type": "code",
   "execution_count": 26,
   "id": "ebb79b46",
   "metadata": {
    "execution": {
     "iopub.execute_input": "2022-11-30T11:20:57.594389Z",
     "iopub.status.busy": "2022-11-30T11:20:57.589565Z",
     "iopub.status.idle": "2022-11-30T11:21:13.333257Z",
     "shell.execute_reply": "2022-11-30T11:21:13.332582Z",
     "shell.execute_reply.started": "2022-11-28T16:47:09.913296Z"
    },
    "papermill": {
     "duration": 15.936638,
     "end_time": "2022-11-30T11:21:13.333453",
     "exception": false,
     "start_time": "2022-11-30T11:20:57.396815",
     "status": "completed"
    },
    "tags": []
   },
   "outputs": [
    {
     "name": "stdout",
     "output_type": "stream",
     "text": [
      "Precision: 0.8550\n",
      "Recall: 0.9155\n",
      "Accuracy: 0.8780\n",
      "F1 Score: 0.8843\n",
      "              precision    recall  f1-score   support\n",
      "\n",
      "           0       0.91      0.84      0.87       491\n",
      "           1       0.86      0.92      0.88       509\n",
      "\n",
      "    accuracy                           0.88      1000\n",
      "   macro avg       0.88      0.88      0.88      1000\n",
      "weighted avg       0.88      0.88      0.88      1000\n",
      "\n"
     ]
    }
   ],
   "source": [
    "pred = model.predict(test_dataset, batch_size=batch_size)\n",
    "y_pred = tf.cast(tf.round(pred), tf.int32).numpy().flatten()\n",
    "\n",
    "print('Precision: %.4f' % precision_score(test.label, y_pred))\n",
    "print('Recall: %.4f' % recall_score(test.label, y_pred))\n",
    "print('Accuracy: %.4f' % accuracy_score(test.label, y_pred))\n",
    "print('F1 Score: %.4f' % f1_score(test.label, y_pred))\n",
    "print(classification_report(test.label, y_pred))"
   ]
  },
  {
   "cell_type": "code",
   "execution_count": 27,
   "id": "f321ecaa",
   "metadata": {
    "execution": {
     "iopub.execute_input": "2022-11-30T11:21:13.711246Z",
     "iopub.status.busy": "2022-11-30T11:21:13.709995Z",
     "iopub.status.idle": "2022-11-30T11:21:13.712758Z",
     "shell.execute_reply": "2022-11-30T11:21:13.713339Z",
     "shell.execute_reply.started": "2022-11-28T16:47:24.798157Z"
    },
    "papermill": {
     "duration": 0.198394,
     "end_time": "2022-11-30T11:21:13.713530",
     "exception": false,
     "start_time": "2022-11-30T11:21:13.515136",
     "status": "completed"
    },
    "tags": []
   },
   "outputs": [],
   "source": [
    "def plot_confusion_matrix(cm, classes,\n",
    "                          title='Confusion matrix',\n",
    "                          cmap=plt.cm.Blues):\n",
    "    \"\"\"\n",
    "    This function prints and plots the confusion matrix.\n",
    "    Normalization can be applied by setting `normalize=True`.\n",
    "    \"\"\"\n",
    "\n",
    "    cm = cm.astype('float') / cm.sum(axis=1)[:, np.newaxis]\n",
    "\n",
    "    plt.imshow(cm, interpolation='nearest', cmap=cmap)\n",
    "    plt.title(title, fontsize=20)\n",
    "    plt.colorbar()\n",
    "    tick_marks = np.arange(len(classes))\n",
    "    plt.xticks(tick_marks, classes, rotation=90, fontsize=16)\n",
    "    plt.yticks(tick_marks, classes, fontsize=16)\n",
    "\n",
    "    fmt = '.2f'\n",
    "    thresh = cm.max() / 2.\n",
    "    for i, j in itertools.product(range(cm.shape[0]), range(cm.shape[1])):\n",
    "        plt.text(j, i, format(cm[i, j], fmt),\n",
    "                 horizontalalignment=\"center\",\n",
    "                 color=\"white\" if cm[i, j] > thresh else \"black\")\n",
    "\n",
    "    plt.ylabel('True label', fontsize=12)\n",
    "    plt.xlabel('Predicted label', fontsize=12)"
   ]
  },
  {
   "cell_type": "code",
   "execution_count": 28,
   "id": "37a3d793",
   "metadata": {
    "execution": {
     "iopub.execute_input": "2022-11-30T11:21:14.090075Z",
     "iopub.status.busy": "2022-11-30T11:21:14.088965Z",
     "iopub.status.idle": "2022-11-30T11:21:14.375782Z",
     "shell.execute_reply": "2022-11-30T11:21:14.375105Z",
     "shell.execute_reply.started": "2022-11-28T17:39:29.824197Z"
    },
    "papermill": {
     "duration": 0.477673,
     "end_time": "2022-11-30T11:21:14.375936",
     "exception": false,
     "start_time": "2022-11-30T11:21:13.898263",
     "status": "completed"
    },
    "tags": []
   },
   "outputs": [
    {
     "data": {
      "image/png": "[encoded data removed]",
      "text/plain": [
       "<Figure size 432x432 with 2 Axes>"
      ]
     },
     "metadata": {
      "needs_background": "light"
     },
     "output_type": "display_data"
    }
   ],
   "source": [
    "import itertools\n",
    "cnf_matrix = confusion_matrix(test.label, y_pred)\n",
    "plt.figure(figsize=(6,6))\n",
    "plot_confusion_matrix(cnf_matrix, classes=train.label.unique(),cmap=\"Greens\", title=\"Confusion matrix\")\n",
    "plt.show()"
   ]
  }
 ],
 "metadata": {
  "kernelspec": {
   "display_name": "Python 3 (ipykernel)",
   "language": "python",
   "name": "python3"
  },
  "language_info": {
   "codemirror_mode": {
    "name": "ipython",
    "version": 3
   },
   "file_extension": ".py",
   "mimetype": "text/x-python",
   "name": "python",
   "nbconvert_exporter": "python",
   "pygments_lexer": "ipython3",
   "version": "3.9.13"
  },
  "papermill": {
   "default_parameters": {},
   "duration": 394.042191,
   "end_time": "2022-11-30T11:21:19.146318",
   "environment_variables": {},
   "exception": null,
   "input_path": "__notebook__.ipynb",
   "output_path": "__notebook__.ipynb",
   "parameters": {},
   "start_time": "2022-11-30T11:14:45.104127",
   "version": "2.3.3"
  },
  "widgets": {
   "application/vnd.jupyter.widget-state+json": {
    "state": {
     "03d2ccf6407b449ba9e5486574d218cc": {
      "model_module": "@jupyter-widgets/controls",
      "model_module_version": "1.5.0",
      "model_name": "DescriptionStyleModel",
      "state": {
       "_model_module": "@jupyter-widgets/controls",
       "_model_module_version": "1.5.0",
       "_model_name": "DescriptionStyleModel",
       "_view_count": null,
       "_view_module": "@jupyter-widgets/base",
       "_view_module_version": "1.2.0",
       "_view_name": "StyleView",
       "description_width": ""
      }
     },
     "04da69f72a334a32b45bbb3f3e3fdc7d": {
      "model_module": "@jupyter-widgets/controls",
      "model_module_version": "1.5.0",
      "model_name": "FloatProgressModel",
      "state": {
       "_dom_classes": [],
       "_model_module": "@jupyter-widgets/controls",
       "_model_module_version": "1.5.0",
       "_model_name": "FloatProgressModel",
       "_view_count": null,
       "_view_module": "@jupyter-widgets/controls",
       "_view_module_version": "1.5.0",
       "_view_name": "ProgressView",
       "bar_style": "success",
       "description": "",
       "description_tooltip": null,
       "layout": "IPY_MODEL_cec2cbc3547c4d5f88de32f672626ef1",
       "max": 386,
       "min": 0,
       "orientation": "horizontal",
       "style": "IPY_MODEL_da4af12524da46488bff380c1333482f",
       "value": 386
      }
     },
     "0b8476f9560e4dbc8a7d288c0b2004c8": {
      "model_module": "@jupyter-widgets/controls",
      "model_module_version": "1.5.0",
      "model_name": "ProgressStyleModel",
      "state": {
       "_model_module": "@jupyter-widgets/controls",
       "_model_module_version": "1.5.0",
       "_model_name": "ProgressStyleModel",
       "_view_count": null,
       "_view_module": "@jupyter-widgets/base",
       "_view_module_version": "1.2.0",
       "_view_name": "StyleView",
       "bar_color": null,
       "description_width": ""
      }
     },
     "0dc2b834cfe54b61ae5a0b171fb5a0bc": {
      "model_module": "@jupyter-widgets/base",
      "model_module_version": "1.2.0",
      "model_name": "LayoutModel",
      "state": {
       "_model_module": "@jupyter-widgets/base",
       "_model_module_version": "1.2.0",
       "_model_name": "LayoutModel",
       "_view_count": null,
       "_view_module": "@jupyter-widgets/base",
       "_view_module_version": "1.2.0",
       "_view_name": "LayoutView",
       "align_content": null,
       "align_items": null,
       "align_self": null,
       "border": null,
       "bottom": null,
       "display": null,
       "flex": null,
       "flex_flow": null,
       "grid_area": null,
       "grid_auto_columns": null,
       "grid_auto_flow": null,
       "grid_auto_rows": null,
       "grid_column": null,
       "grid_gap": null,
       "grid_row": null,
       "grid_template_areas": null,
       "grid_template_columns": null,
       "grid_template_rows": null,
       "height": null,
       "justify_content": null,
       "justify_items": null,
       "left": null,
       "margin": null,
       "max_height": null,
       "max_width": null,
       "min_height": null,
       "min_width": null,
       "object_fit": null,
       "object_position": null,
       "order": null,
       "overflow": null,
       "overflow_x": null,
       "overflow_y": null,
       "padding": null,
       "right": null,
       "top": null,
       "visibility": null,
       "width": null
      }
     },
     "109837c1f8204569a38000aaabad9f43": {
      "model_module": "@jupyter-widgets/controls",
      "model_module_version": "1.5.0",
      "model_name": "HTMLModel",
      "state": {
       "_dom_classes": [],
       "_model_module": "@jupyter-widgets/controls",
       "_model_module_version": "1.5.0",
       "_model_name": "HTMLModel",
       "_view_count": null,
       "_view_module": "@jupyter-widgets/controls",
       "_view_module_version": "1.5.0",
       "_view_name": "HTMLView",
       "description": "",
       "description_tooltip": null,
       "layout": "IPY_MODEL_4edc633e0c234e00a87360627c387465",
       "placeholder": "​",
       "style": "IPY_MODEL_eefc8eb06f6a4ed3900182b1577b89b3",
       "value": " 1.23M/1.23M [00:00&lt;00:00, 1.65MB/s]"
      }
     },
     "13224c33218d4a39b6e14dc3b3bb87d6": {
      "model_module": "@jupyter-widgets/controls",
      "model_module_version": "1.5.0",
      "model_name": "HTMLModel",
      "state": {
       "_dom_classes": [],
       "_model_module": "@jupyter-widgets/controls",
       "_model_module_version": "1.5.0",
       "_model_name": "HTMLModel",
       "_view_count": null,
       "_view_module": "@jupyter-widgets/controls",
       "_view_module_version": "1.5.0",
       "_view_name": "HTMLView",
       "description": "",
       "description_tooltip": null,
       "layout": "IPY_MODEL_fcf689e902404b85b99186d25d906233",
       "placeholder": "​",
       "style": "IPY_MODEL_ba05da7898d1456883723515abbe4f07",
       "value": "Downloading: 100%"
      }
     },
     "16ab1531e69e4588a72f063ebad67062": {
      "model_module": "@jupyter-widgets/controls",
      "model_module_version": "1.5.0",
      "model_name": "HBoxModel",
      "state": {
       "_dom_classes": [],
       "_model_module": "@jupyter-widgets/controls",
       "_model_module_version": "1.5.0",
       "_model_name": "HBoxModel",
       "_view_count": null,
       "_view_module": "@jupyter-widgets/controls",
       "_view_module_version": "1.5.0",
       "_view_name": "HBoxView",
       "box_style": "",
       "children": [
        "IPY_MODEL_9912b99d6bf1429ea21229820cc3f78e",
        "IPY_MODEL_04da69f72a334a32b45bbb3f3e3fdc7d",
        "IPY_MODEL_a63de7f47b574eeeb3d83db7e9ff6591"
       ],
       "layout": "IPY_MODEL_d467b0079e5043f38a598aee4abb1c5c"
      }
     },
     "1a5514706004469aa31a423eccad61e2": {
      "model_module": "@jupyter-widgets/controls",
      "model_module_version": "1.5.0",
      "model_name": "HTMLModel",
      "state": {
       "_dom_classes": [],
       "_model_module": "@jupyter-widgets/controls",
       "_model_module_version": "1.5.0",
       "_model_name": "HTMLModel",
       "_view_count": null,
       "_view_module": "@jupyter-widgets/controls",
       "_view_module_version": "1.5.0",
       "_view_name": "HTMLView",
       "description": "",
       "description_tooltip": null,
       "layout": "IPY_MODEL_0dc2b834cfe54b61ae5a0b171fb5a0bc",
       "placeholder": "​",
       "style": "IPY_MODEL_dfdfefba9f37441eab99a8cf5b78c257",
       "value": "Downloading: 100%"
      }
     },
     "2a3d9bf7d29c4e96a539904ed2e423e9": {
      "model_module": "@jupyter-widgets/base",
      "model_module_version": "1.2.0",
      "model_name": "LayoutModel",
      "state": {
       "_model_module": "@jupyter-widgets/base",
       "_model_module_version": "1.2.0",
       "_model_name": "LayoutModel",
       "_view_count": null,
       "_view_module": "@jupyter-widgets/base",
       "_view_module_version": "1.2.0",
       "_view_name": "LayoutView",
       "align_content": null,
       "align_items": null,
       "align_self": null,
       "border": null,
       "bottom": null,
       "display": null,
       "flex": null,
       "flex_flow": null,
       "grid_area": null,
       "grid_auto_columns": null,
       "grid_auto_flow": null,
       "grid_auto_rows": null,
       "grid_column": null,
       "grid_gap": null,
       "grid_row": null,
       "grid_template_areas": null,
       "grid_template_columns": null,
       "grid_template_rows": null,
       "height": null,
       "justify_content": null,
       "justify_items": null,
       "left": null,
       "margin": null,
       "max_height": null,
       "max_width": null,
       "min_height": null,
       "min_width": null,
       "object_fit": null,
       "object_position": null,
       "order": null,
       "overflow": null,
       "overflow_x": null,
       "overflow_y": null,
       "padding": null,
       "right": null,
       "top": null,
       "visibility": null,
       "width": null
      }
     },
     "2a5e202516cf4018af76a0a7b875b1b3": {
      "model_module": "@jupyter-widgets/base",
      "model_module_version": "1.2.0",
      "model_name": "LayoutModel",
      "state": {
       "_model_module": "@jupyter-widgets/base",
       "_model_module_version": "1.2.0",
       "_model_name": "LayoutModel",
       "_view_count": null,
       "_view_module": "@jupyter-widgets/base",
       "_view_module_version": "1.2.0",
       "_view_name": "LayoutView",
       "align_content": null,
       "align_items": null,
       "align_self": null,
       "border": null,
       "bottom": null,
       "display": null,
       "flex": null,
       "flex_flow": null,
       "grid_area": null,
       "grid_auto_columns": null,
       "grid_auto_flow": null,
       "grid_auto_rows": null,
       "grid_column": null,
       "grid_gap": null,
       "grid_row": null,
       "grid_template_areas": null,
       "grid_template_columns": null,
       "grid_template_rows": null,
       "height": null,
       "justify_content": null,
       "justify_items": null,
       "left": null,
       "margin": null,
       "max_height": null,
       "max_width": null,
       "min_height": null,
       "min_width": null,
       "object_fit": null,
       "object_position": null,
       "order": null,
       "overflow": null,
       "overflow_x": null,
       "overflow_y": null,
       "padding": null,
       "right": null,
       "top": null,
       "visibility": null,
       "width": null
      }
     },
     "2c66182c196e46638bcad7111863748e": {
      "model_module": "@jupyter-widgets/controls",
      "model_module_version": "1.5.0",
      "model_name": "DescriptionStyleModel",
      "state": {
       "_model_module": "@jupyter-widgets/controls",
       "_model_module_version": "1.5.0",
       "_model_name": "DescriptionStyleModel",
       "_view_count": null,
       "_view_module": "@jupyter-widgets/base",
       "_view_module_version": "1.2.0",
       "_view_name": "StyleView",
       "description_width": ""
      }
     },
     "2e300f1c100a4698b32f064e28bec9e0": {
      "model_module": "@jupyter-widgets/controls",
      "model_module_version": "1.5.0",
      "model_name": "DescriptionStyleModel",
      "state": {
       "_model_module": "@jupyter-widgets/controls",
       "_model_module_version": "1.5.0",
       "_model_name": "DescriptionStyleModel",
       "_view_count": null,
       "_view_module": "@jupyter-widgets/base",
       "_view_module_version": "1.2.0",
       "_view_name": "StyleView",
       "description_width": ""
      }
     },
     "333c07018ea44abc9969a2c8bf3797cd": {
      "model_module": "@jupyter-widgets/controls",
      "model_module_version": "1.5.0",
      "model_name": "HBoxModel",
      "state": {
       "_dom_classes": [],
       "_model_module": "@jupyter-widgets/controls",
       "_model_module_version": "1.5.0",
       "_model_name": "HBoxModel",
       "_view_count": null,
       "_view_module": "@jupyter-widgets/controls",
       "_view_module_version": "1.5.0",
       "_view_name": "HBoxView",
       "box_style": "",
       "children": [
        "IPY_MODEL_1a5514706004469aa31a423eccad61e2",
        "IPY_MODEL_88d7ad78b5714367a6663fdb4b0901ab",
        "IPY_MODEL_f79d59fa533a43879c02c1c7711394d5"
       ],
       "layout": "IPY_MODEL_b9ba92393a0e47d5b69a175e6c194085"
      }
     },
     "354fdb306f4f405dbac85ef5a6865dcf": {
      "model_module": "@jupyter-widgets/controls",
      "model_module_version": "1.5.0",
      "model_name": "ProgressStyleModel",
      "state": {
       "_model_module": "@jupyter-widgets/controls",
       "_model_module_version": "1.5.0",
       "_model_name": "ProgressStyleModel",
       "_view_count": null,
       "_view_module": "@jupyter-widgets/base",
       "_view_module_version": "1.2.0",
       "_view_name": "StyleView",
       "bar_color": null,
       "description_width": ""
      }
     },
     "3eaf6bc298de41909754003697740bc2": {
      "model_module": "@jupyter-widgets/base",
      "model_module_version": "1.2.0",
      "model_name": "LayoutModel",
      "state": {
       "_model_module": "@jupyter-widgets/base",
       "_model_module_version": "1.2.0",
       "_model_name": "LayoutModel",
       "_view_count": null,
       "_view_module": "@jupyter-widgets/base",
       "_view_module_version": "1.2.0",
       "_view_name": "LayoutView",
       "align_content": null,
       "align_items": null,
       "align_self": null,
       "border": null,
       "bottom": null,
       "display": null,
       "flex": null,
       "flex_flow": null,
       "grid_area": null,
       "grid_auto_columns": null,
       "grid_auto_flow": null,
       "grid_auto_rows": null,
       "grid_column": null,
       "grid_gap": null,
       "grid_row": null,
       "grid_template_areas": null,
       "grid_template_columns": null,
       "grid_template_rows": null,
       "height": null,
       "justify_content": null,
       "justify_items": null,
       "left": null,
       "margin": null,
       "max_height": null,
       "max_width": null,
       "min_height": null,
       "min_width": null,
       "object_fit": null,
       "object_position": null,
       "order": null,
       "overflow": null,
       "overflow_x": null,
       "overflow_y": null,
       "padding": null,
       "right": null,
       "top": null,
       "visibility": null,
       "width": null
      }
     },
     "43547846fc2447ceb12d3305ad8e51c9": {
      "model_module": "@jupyter-widgets/base",
      "model_module_version": "1.2.0",
      "model_name": "LayoutModel",
      "state": {
       "_model_module": "@jupyter-widgets/base",
       "_model_module_version": "1.2.0",
       "_model_name": "LayoutModel",
       "_view_count": null,
       "_view_module": "@jupyter-widgets/base",
       "_view_module_version": "1.2.0",
       "_view_name": "LayoutView",
       "align_content": null,
       "align_items": null,
       "align_self": null,
       "border": null,
       "bottom": null,
       "display": null,
       "flex": null,
       "flex_flow": null,
       "grid_area": null,
       "grid_auto_columns": null,
       "grid_auto_flow": null,
       "grid_auto_rows": null,
       "grid_column": null,
       "grid_gap": null,
       "grid_row": null,
       "grid_template_areas": null,
       "grid_template_columns": null,
       "grid_template_rows": null,
       "height": null,
       "justify_content": null,
       "justify_items": null,
       "left": null,
       "margin": null,
       "max_height": null,
       "max_width": null,
       "min_height": null,
       "min_width": null,
       "object_fit": null,
       "object_position": null,
       "order": null,
       "overflow": null,
       "overflow_x": null,
       "overflow_y": null,
       "padding": null,
       "right": null,
       "top": null,
       "visibility": null,
       "width": null
      }
     },
     "4df789372bb44d9ea3c1f97f2ecd34b9": {
      "model_module": "@jupyter-widgets/controls",
      "model_module_version": "1.5.0",
      "model_name": "DescriptionStyleModel",
      "state": {
       "_model_module": "@jupyter-widgets/controls",
       "_model_module_version": "1.5.0",
       "_model_name": "DescriptionStyleModel",
       "_view_count": null,
       "_view_module": "@jupyter-widgets/base",
       "_view_module_version": "1.2.0",
       "_view_name": "StyleView",
       "description_width": ""
      }
     },
     "4edc633e0c234e00a87360627c387465": {
      "model_module": "@jupyter-widgets/base",
      "model_module_version": "1.2.0",
      "model_name": "LayoutModel",
      "state": {
       "_model_module": "@jupyter-widgets/base",
       "_model_module_version": "1.2.0",
       "_model_name": "LayoutModel",
       "_view_count": null,
       "_view_module": "@jupyter-widgets/base",
       "_view_module_version": "1.2.0",
       "_view_name": "LayoutView",
       "align_content": null,
       "align_items": null,
       "align_self": null,
       "border": null,
       "bottom": null,
       "display": null,
       "flex": null,
       "flex_flow": null,
       "grid_area": null,
       "grid_auto_columns": null,
       "grid_auto_flow": null,
       "grid_auto_rows": null,
       "grid_column": null,
       "grid_gap": null,
       "grid_row": null,
       "grid_template_areas": null,
       "grid_template_columns": null,
       "grid_template_rows": null,
       "height": null,
       "justify_content": null,
       "justify_items": null,
       "left": null,
       "margin": null,
       "max_height": null,
       "max_width": null,
       "min_height": null,
       "min_width": null,
       "object_fit": null,
       "object_position": null,
       "order": null,
       "overflow": null,
       "overflow_x": null,
       "overflow_y": null,
       "padding": null,
       "right": null,
       "top": null,
       "visibility": null,
       "width": null
      }
     },
     "5dee7db0fa0a4c7babc243b8b94f306a": {
      "model_module": "@jupyter-widgets/base",
      "model_module_version": "1.2.0",
      "model_name": "LayoutModel",
      "state": {
       "_model_module": "@jupyter-widgets/base",
       "_model_module_version": "1.2.0",
       "_model_name": "LayoutModel",
       "_view_count": null,
       "_view_module": "@jupyter-widgets/base",
       "_view_module_version": "1.2.0",
       "_view_name": "LayoutView",
       "align_content": null,
       "align_items": null,
       "align_self": null,
       "border": null,
       "bottom": null,
       "display": null,
       "flex": null,
       "flex_flow": null,
       "grid_area": null,
       "grid_auto_columns": null,
       "grid_auto_flow": null,
       "grid_auto_rows": null,
       "grid_column": null,
       "grid_gap": null,
       "grid_row": null,
       "grid_template_areas": null,
       "grid_template_columns": null,
       "grid_template_rows": null,
       "height": null,
       "justify_content": null,
       "justify_items": null,
       "left": null,
       "margin": null,
       "max_height": null,
       "max_width": null,
       "min_height": null,
       "min_width": null,
       "object_fit": null,
       "object_position": null,
       "order": null,
       "overflow": null,
       "overflow_x": null,
       "overflow_y": null,
       "padding": null,
       "right": null,
       "top": null,
       "visibility": null,
       "width": null
      }
     },
     "6833304d3fef4b99bd7ec0171d107e4a": {
      "model_module": "@jupyter-widgets/controls",
      "model_module_version": "1.5.0",
      "model_name": "DescriptionStyleModel",
      "state": {
       "_model_module": "@jupyter-widgets/controls",
       "_model_module_version": "1.5.0",
       "_model_name": "DescriptionStyleModel",
       "_view_count": null,
       "_view_module": "@jupyter-widgets/base",
       "_view_module_version": "1.2.0",
       "_view_name": "StyleView",
       "description_width": ""
      }
     },
     "7f0f071b01e74c97ab7c23ef68cadee1": {
      "model_module": "@jupyter-widgets/controls",
      "model_module_version": "1.5.0",
      "model_name": "HBoxModel",
      "state": {
       "_dom_classes": [],
       "_model_module": "@jupyter-widgets/controls",
       "_model_module_version": "1.5.0",
       "_model_name": "HBoxModel",
       "_view_count": null,
       "_view_module": "@jupyter-widgets/controls",
       "_view_module_version": "1.5.0",
       "_view_name": "HBoxView",
       "box_style": "",
       "children": [
        "IPY_MODEL_13224c33218d4a39b6e14dc3b3bb87d6",
        "IPY_MODEL_fb00e945c6904628be0cd50abe817677",
        "IPY_MODEL_cdb848171e824343beaf257db513b08f"
       ],
       "layout": "IPY_MODEL_a314debe5afe4dc0bed537f0c6df2e65"
      }
     },
     "88d7ad78b5714367a6663fdb4b0901ab": {
      "model_module": "@jupyter-widgets/controls",
      "model_module_version": "1.5.0",
      "model_name": "FloatProgressModel",
      "state": {
       "_dom_classes": [],
       "_model_module": "@jupyter-widgets/controls",
       "_model_module_version": "1.5.0",
       "_model_name": "FloatProgressModel",
       "_view_count": null,
       "_view_module": "@jupyter-widgets/controls",
       "_view_module_version": "1.5.0",
       "_view_name": "ProgressView",
       "bar_style": "success",
       "description": "",
       "description_tooltip": null,
       "layout": "IPY_MODEL_3eaf6bc298de41909754003697740bc2",
       "max": 1135358592,
       "min": 0,
       "orientation": "horizontal",
       "style": "IPY_MODEL_b0ea8fa1e4f84803a2cf559a55677cda",
       "value": 1135358592
      }
     },
     "9189ad96734a47b088fa6961e95bf973": {
      "model_module": "@jupyter-widgets/controls",
      "model_module_version": "1.5.0",
      "model_name": "HBoxModel",
      "state": {
       "_dom_classes": [],
       "_model_module": "@jupyter-widgets/controls",
       "_model_module_version": "1.5.0",
       "_model_name": "HBoxModel",
       "_view_count": null,
       "_view_module": "@jupyter-widgets/controls",
       "_view_module_version": "1.5.0",
       "_view_name": "HBoxView",
       "box_style": "",
       "children": [
        "IPY_MODEL_b2c8250bfa234c82acd013524ace3ac6",
        "IPY_MODEL_f4814249d8ca41beba41fb938c7ccdde",
        "IPY_MODEL_109837c1f8204569a38000aaabad9f43"
       ],
       "layout": "IPY_MODEL_2a5e202516cf4018af76a0a7b875b1b3"
      }
     },
     "9912b99d6bf1429ea21229820cc3f78e": {
      "model_module": "@jupyter-widgets/controls",
      "model_module_version": "1.5.0",
      "model_name": "HTMLModel",
      "state": {
       "_dom_classes": [],
       "_model_module": "@jupyter-widgets/controls",
       "_model_module_version": "1.5.0",
       "_model_name": "HTMLModel",
       "_view_count": null,
       "_view_module": "@jupyter-widgets/controls",
       "_view_module_version": "1.5.0",
       "_view_name": "HTMLView",
       "description": "",
       "description_tooltip": null,
       "layout": "IPY_MODEL_f4d4b92fc2bb4131b8ca65ebb5028e63",
       "placeholder": "​",
       "style": "IPY_MODEL_03d2ccf6407b449ba9e5486574d218cc",
       "value": "Downloading: 100%"
      }
     },
     "a314debe5afe4dc0bed537f0c6df2e65": {
      "model_module": "@jupyter-widgets/base",
      "model_module_version": "1.2.0",
      "model_name": "LayoutModel",
      "state": {
       "_model_module": "@jupyter-widgets/base",
       "_model_module_version": "1.2.0",
       "_model_name": "LayoutModel",
       "_view_count": null,
       "_view_module": "@jupyter-widgets/base",
       "_view_module_version": "1.2.0",
       "_view_name": "LayoutView",
       "align_content": null,
       "align_items": null,
       "align_self": null,
       "border": null,
       "bottom": null,
       "display": null,
       "flex": null,
       "flex_flow": null,
       "grid_area": null,
       "grid_auto_columns": null,
       "grid_auto_flow": null,
       "grid_auto_rows": null,
       "grid_column": null,
       "grid_gap": null,
       "grid_row": null,
       "grid_template_areas": null,
       "grid_template_columns": null,
       "grid_template_rows": null,
       "height": null,
       "justify_content": null,
       "justify_items": null,
       "left": null,
       "margin": null,
       "max_height": null,
       "max_width": null,
       "min_height": null,
       "min_width": null,
       "object_fit": null,
       "object_position": null,
       "order": null,
       "overflow": null,
       "overflow_x": null,
       "overflow_y": null,
       "padding": null,
       "right": null,
       "top": null,
       "visibility": null,
       "width": null
      }
     },
     "a63de7f47b574eeeb3d83db7e9ff6591": {
      "model_module": "@jupyter-widgets/controls",
      "model_module_version": "1.5.0",
      "model_name": "HTMLModel",
      "state": {
       "_dom_classes": [],
       "_model_module": "@jupyter-widgets/controls",
       "_model_module_version": "1.5.0",
       "_model_name": "HTMLModel",
       "_view_count": null,
       "_view_module": "@jupyter-widgets/controls",
       "_view_module_version": "1.5.0",
       "_view_name": "HTMLView",
       "description": "",
       "description_tooltip": null,
       "layout": "IPY_MODEL_43547846fc2447ceb12d3305ad8e51c9",
       "placeholder": "​",
       "style": "IPY_MODEL_2c66182c196e46638bcad7111863748e",
       "value": " 386/386 [00:00&lt;00:00, 13.1kB/s]"
      }
     },
     "aa3b3b39fc824fe281cb82d5d236c3be": {
      "model_module": "@jupyter-widgets/base",
      "model_module_version": "1.2.0",
      "model_name": "LayoutModel",
      "state": {
       "_model_module": "@jupyter-widgets/base",
       "_model_module_version": "1.2.0",
       "_model_name": "LayoutModel",
       "_view_count": null,
       "_view_module": "@jupyter-widgets/base",
       "_view_module_version": "1.2.0",
       "_view_name": "LayoutView",
       "align_content": null,
       "align_items": null,
       "align_self": null,
       "border": null,
       "bottom": null,
       "display": null,
       "flex": null,
       "flex_flow": null,
       "grid_area": null,
       "grid_auto_columns": null,
       "grid_auto_flow": null,
       "grid_auto_rows": null,
       "grid_column": null,
       "grid_gap": null,
       "grid_row": null,
       "grid_template_areas": null,
       "grid_template_columns": null,
       "grid_template_rows": null,
       "height": null,
       "justify_content": null,
       "justify_items": null,
       "left": null,
       "margin": null,
       "max_height": null,
       "max_width": null,
       "min_height": null,
       "min_width": null,
       "object_fit": null,
       "object_position": null,
       "order": null,
       "overflow": null,
       "overflow_x": null,
       "overflow_y": null,
       "padding": null,
       "right": null,
       "top": null,
       "visibility": null,
       "width": null
      }
     },
     "b0ea8fa1e4f84803a2cf559a55677cda": {
      "model_module": "@jupyter-widgets/controls",
      "model_module_version": "1.5.0",
      "model_name": "ProgressStyleModel",
      "state": {
       "_model_module": "@jupyter-widgets/controls",
       "_model_module_version": "1.5.0",
       "_model_name": "ProgressStyleModel",
       "_view_count": null,
       "_view_module": "@jupyter-widgets/base",
       "_view_module_version": "1.2.0",
       "_view_name": "StyleView",
       "bar_color": null,
       "description_width": ""
      }
     },
     "b2c8250bfa234c82acd013524ace3ac6": {
      "model_module": "@jupyter-widgets/controls",
      "model_module_version": "1.5.0",
      "model_name": "HTMLModel",
      "state": {
       "_dom_classes": [],
       "_model_module": "@jupyter-widgets/controls",
       "_model_module_version": "1.5.0",
       "_model_name": "HTMLModel",
       "_view_count": null,
       "_view_module": "@jupyter-widgets/controls",
       "_view_module_version": "1.5.0",
       "_view_name": "HTMLView",
       "description": "",
       "description_tooltip": null,
       "layout": "IPY_MODEL_aa3b3b39fc824fe281cb82d5d236c3be",
       "placeholder": "​",
       "style": "IPY_MODEL_4df789372bb44d9ea3c1f97f2ecd34b9",
       "value": "Downloading: 100%"
      }
     },
     "b9ba92393a0e47d5b69a175e6c194085": {
      "model_module": "@jupyter-widgets/base",
      "model_module_version": "1.2.0",
      "model_name": "LayoutModel",
      "state": {
       "_model_module": "@jupyter-widgets/base",
       "_model_module_version": "1.2.0",
       "_model_name": "LayoutModel",
       "_view_count": null,
       "_view_module": "@jupyter-widgets/base",
       "_view_module_version": "1.2.0",
       "_view_name": "LayoutView",
       "align_content": null,
       "align_items": null,
       "align_self": null,
       "border": null,
       "bottom": null,
       "display": null,
       "flex": null,
       "flex_flow": null,
       "grid_area": null,
       "grid_auto_columns": null,
       "grid_auto_flow": null,
       "grid_auto_rows": null,
       "grid_column": null,
       "grid_gap": null,
       "grid_row": null,
       "grid_template_areas": null,
       "grid_template_columns": null,
       "grid_template_rows": null,
       "height": null,
       "justify_content": null,
       "justify_items": null,
       "left": null,
       "margin": null,
       "max_height": null,
       "max_width": null,
       "min_height": null,
       "min_width": null,
       "object_fit": null,
       "object_position": null,
       "order": null,
       "overflow": null,
       "overflow_x": null,
       "overflow_y": null,
       "padding": null,
       "right": null,
       "top": null,
       "visibility": null,
       "width": null
      }
     },
     "ba05da7898d1456883723515abbe4f07": {
      "model_module": "@jupyter-widgets/controls",
      "model_module_version": "1.5.0",
      "model_name": "DescriptionStyleModel",
      "state": {
       "_model_module": "@jupyter-widgets/controls",
       "_model_module_version": "1.5.0",
       "_model_name": "DescriptionStyleModel",
       "_view_count": null,
       "_view_module": "@jupyter-widgets/base",
       "_view_module_version": "1.2.0",
       "_view_name": "StyleView",
       "description_width": ""
      }
     },
     "cdb848171e824343beaf257db513b08f": {
      "model_module": "@jupyter-widgets/controls",
      "model_module_version": "1.5.0",
      "model_name": "HTMLModel",
      "state": {
       "_dom_classes": [],
       "_model_module": "@jupyter-widgets/controls",
       "_model_module_version": "1.5.0",
       "_model_name": "HTMLModel",
       "_view_count": null,
       "_view_module": "@jupyter-widgets/controls",
       "_view_module_version": "1.5.0",
       "_view_name": "HTMLView",
       "description": "",
       "description_tooltip": null,
       "layout": "IPY_MODEL_2a3d9bf7d29c4e96a539904ed2e423e9",
       "placeholder": "​",
       "style": "IPY_MODEL_6833304d3fef4b99bd7ec0171d107e4a",
       "value": " 59.0/59.0 [00:00&lt;00:00, 1.96kB/s]"
      }
     },
     "cec2cbc3547c4d5f88de32f672626ef1": {
      "model_module": "@jupyter-widgets/base",
      "model_module_version": "1.2.0",
      "model_name": "LayoutModel",
      "state": {
       "_model_module": "@jupyter-widgets/base",
       "_model_module_version": "1.2.0",
       "_model_name": "LayoutModel",
       "_view_count": null,
       "_view_module": "@jupyter-widgets/base",
       "_view_module_version": "1.2.0",
       "_view_name": "LayoutView",
       "align_content": null,
       "align_items": null,
       "align_self": null,
       "border": null,
       "bottom": null,
       "display": null,
       "flex": null,
       "flex_flow": null,
       "grid_area": null,
       "grid_auto_columns": null,
       "grid_auto_flow": null,
       "grid_auto_rows": null,
       "grid_column": null,
       "grid_gap": null,
       "grid_row": null,
       "grid_template_areas": null,
       "grid_template_columns": null,
       "grid_template_rows": null,
       "height": null,
       "justify_content": null,
       "justify_items": null,
       "left": null,
       "margin": null,
       "max_height": null,
       "max_width": null,
       "min_height": null,
       "min_width": null,
       "object_fit": null,
       "object_position": null,
       "order": null,
       "overflow": null,
       "overflow_x": null,
       "overflow_y": null,
       "padding": null,
       "right": null,
       "top": null,
       "visibility": null,
       "width": null
      }
     },
     "d467b0079e5043f38a598aee4abb1c5c": {
      "model_module": "@jupyter-widgets/base",
      "model_module_version": "1.2.0",
      "model_name": "LayoutModel",
      "state": {
       "_model_module": "@jupyter-widgets/base",
       "_model_module_version": "1.2.0",
       "_model_name": "LayoutModel",
       "_view_count": null,
       "_view_module": "@jupyter-widgets/base",
       "_view_module_version": "1.2.0",
       "_view_name": "LayoutView",
       "align_content": null,
       "align_items": null,
       "align_self": null,
       "border": null,
       "bottom": null,
       "display": null,
       "flex": null,
       "flex_flow": null,
       "grid_area": null,
       "grid_auto_columns": null,
       "grid_auto_flow": null,
       "grid_auto_rows": null,
       "grid_column": null,
       "grid_gap": null,
       "grid_row": null,
       "grid_template_areas": null,
       "grid_template_columns": null,
       "grid_template_rows": null,
       "height": null,
       "justify_content": null,
       "justify_items": null,
       "left": null,
       "margin": null,
       "max_height": null,
       "max_width": null,
       "min_height": null,
       "min_width": null,
       "object_fit": null,
       "object_position": null,
       "order": null,
       "overflow": null,
       "overflow_x": null,
       "overflow_y": null,
       "padding": null,
       "right": null,
       "top": null,
       "visibility": null,
       "width": null
      }
     },
     "d966d29a9b3e4ef0807e3eaa8fced67e": {
      "model_module": "@jupyter-widgets/base",
      "model_module_version": "1.2.0",
      "model_name": "LayoutModel",
      "state": {
       "_model_module": "@jupyter-widgets/base",
       "_model_module_version": "1.2.0",
       "_model_name": "LayoutModel",
       "_view_count": null,
       "_view_module": "@jupyter-widgets/base",
       "_view_module_version": "1.2.0",
       "_view_name": "LayoutView",
       "align_content": null,
       "align_items": null,
       "align_self": null,
       "border": null,
       "bottom": null,
       "display": null,
       "flex": null,
       "flex_flow": null,
       "grid_area": null,
       "grid_auto_columns": null,
       "grid_auto_flow": null,
       "grid_auto_rows": null,
       "grid_column": null,
       "grid_gap": null,
       "grid_row": null,
       "grid_template_areas": null,
       "grid_template_columns": null,
       "grid_template_rows": null,
       "height": null,
       "justify_content": null,
       "justify_items": null,
       "left": null,
       "margin": null,
       "max_height": null,
       "max_width": null,
       "min_height": null,
       "min_width": null,
       "object_fit": null,
       "object_position": null,
       "order": null,
       "overflow": null,
       "overflow_x": null,
       "overflow_y": null,
       "padding": null,
       "right": null,
       "top": null,
       "visibility": null,
       "width": null
      }
     },
     "da4af12524da46488bff380c1333482f": {
      "model_module": "@jupyter-widgets/controls",
      "model_module_version": "1.5.0",
      "model_name": "ProgressStyleModel",
      "state": {
       "_model_module": "@jupyter-widgets/controls",
       "_model_module_version": "1.5.0",
       "_model_name": "ProgressStyleModel",
       "_view_count": null,
       "_view_module": "@jupyter-widgets/base",
       "_view_module_version": "1.2.0",
       "_view_name": "StyleView",
       "bar_color": null,
       "description_width": ""
      }
     },
     "dfdfefba9f37441eab99a8cf5b78c257": {
      "model_module": "@jupyter-widgets/controls",
      "model_module_version": "1.5.0",
      "model_name": "DescriptionStyleModel",
      "state": {
       "_model_module": "@jupyter-widgets/controls",
       "_model_module_version": "1.5.0",
       "_model_name": "DescriptionStyleModel",
       "_view_count": null,
       "_view_module": "@jupyter-widgets/base",
       "_view_module_version": "1.2.0",
       "_view_name": "StyleView",
       "description_width": ""
      }
     },
     "e76e20becdcb421eae1b1c2d3d554225": {
      "model_module": "@jupyter-widgets/base",
      "model_module_version": "1.2.0",
      "model_name": "LayoutModel",
      "state": {
       "_model_module": "@jupyter-widgets/base",
       "_model_module_version": "1.2.0",
       "_model_name": "LayoutModel",
       "_view_count": null,
       "_view_module": "@jupyter-widgets/base",
       "_view_module_version": "1.2.0",
       "_view_name": "LayoutView",
       "align_content": null,
       "align_items": null,
       "align_self": null,
       "border": null,
       "bottom": null,
       "display": null,
       "flex": null,
       "flex_flow": null,
       "grid_area": null,
       "grid_auto_columns": null,
       "grid_auto_flow": null,
       "grid_auto_rows": null,
       "grid_column": null,
       "grid_gap": null,
       "grid_row": null,
       "grid_template_areas": null,
       "grid_template_columns": null,
       "grid_template_rows": null,
       "height": null,
       "justify_content": null,
       "justify_items": null,
       "left": null,
       "margin": null,
       "max_height": null,
       "max_width": null,
       "min_height": null,
       "min_width": null,
       "object_fit": null,
       "object_position": null,
       "order": null,
       "overflow": null,
       "overflow_x": null,
       "overflow_y": null,
       "padding": null,
       "right": null,
       "top": null,
       "visibility": null,
       "width": null
      }
     },
     "eefc8eb06f6a4ed3900182b1577b89b3": {
      "model_module": "@jupyter-widgets/controls",
      "model_module_version": "1.5.0",
      "model_name": "DescriptionStyleModel",
      "state": {
       "_model_module": "@jupyter-widgets/controls",
       "_model_module_version": "1.5.0",
       "_model_name": "DescriptionStyleModel",
       "_view_count": null,
       "_view_module": "@jupyter-widgets/base",
       "_view_module_version": "1.2.0",
       "_view_name": "StyleView",
       "description_width": ""
      }
     },
     "f4814249d8ca41beba41fb938c7ccdde": {
      "model_module": "@jupyter-widgets/controls",
      "model_module_version": "1.5.0",
      "model_name": "FloatProgressModel",
      "state": {
       "_dom_classes": [],
       "_model_module": "@jupyter-widgets/controls",
       "_model_module_version": "1.5.0",
       "_model_name": "FloatProgressModel",
       "_view_count": null,
       "_view_module": "@jupyter-widgets/controls",
       "_view_module_version": "1.5.0",
       "_view_name": "ProgressView",
       "bar_style": "success",
       "description": "",
       "description_tooltip": null,
       "layout": "IPY_MODEL_e76e20becdcb421eae1b1c2d3d554225",
       "max": 1233088,
       "min": 0,
       "orientation": "horizontal",
       "style": "IPY_MODEL_354fdb306f4f405dbac85ef5a6865dcf",
       "value": 1233088
      }
     },
     "f4d4b92fc2bb4131b8ca65ebb5028e63": {
      "model_module": "@jupyter-widgets/base",
      "model_module_version": "1.2.0",
      "model_name": "LayoutModel",
      "state": {
       "_model_module": "@jupyter-widgets/base",
       "_model_module_version": "1.2.0",
       "_model_name": "LayoutModel",
       "_view_count": null,
       "_view_module": "@jupyter-widgets/base",
       "_view_module_version": "1.2.0",
       "_view_name": "LayoutView",
       "align_content": null,
       "align_items": null,
       "align_self": null,
       "border": null,
       "bottom": null,
       "display": null,
       "flex": null,
       "flex_flow": null,
       "grid_area": null,
       "grid_auto_columns": null,
       "grid_auto_flow": null,
       "grid_auto_rows": null,
       "grid_column": null,
       "grid_gap": null,
       "grid_row": null,
       "grid_template_areas": null,
       "grid_template_columns": null,
       "grid_template_rows": null,
       "height": null,
       "justify_content": null,
       "justify_items": null,
       "left": null,
       "margin": null,
       "max_height": null,
       "max_width": null,
       "min_height": null,
       "min_width": null,
       "object_fit": null,
       "object_position": null,
       "order": null,
       "overflow": null,
       "overflow_x": null,
       "overflow_y": null,
       "padding": null,
       "right": null,
       "top": null,
       "visibility": null,
       "width": null
      }
     },
     "f79d59fa533a43879c02c1c7711394d5": {
      "model_module": "@jupyter-widgets/controls",
      "model_module_version": "1.5.0",
      "model_name": "HTMLModel",
      "state": {
       "_dom_classes": [],
       "_model_module": "@jupyter-widgets/controls",
       "_model_module_version": "1.5.0",
       "_model_name": "HTMLModel",
       "_view_count": null,
       "_view_module": "@jupyter-widgets/controls",
       "_view_module_version": "1.5.0",
       "_view_name": "HTMLView",
       "description": "",
       "description_tooltip": null,
       "layout": "IPY_MODEL_5dee7db0fa0a4c7babc243b8b94f306a",
       "placeholder": "​",
       "style": "IPY_MODEL_2e300f1c100a4698b32f064e28bec9e0",
       "value": " 1.14G/1.14G [00:37&lt;00:00, 30.1MB/s]"
      }
     },
     "fb00e945c6904628be0cd50abe817677": {
      "model_module": "@jupyter-widgets/controls",
      "model_module_version": "1.5.0",
      "model_name": "FloatProgressModel",
      "state": {
       "_dom_classes": [],
       "_model_module": "@jupyter-widgets/controls",
       "_model_module_version": "1.5.0",
       "_model_name": "FloatProgressModel",
       "_view_count": null,
       "_view_module": "@jupyter-widgets/controls",
       "_view_module_version": "1.5.0",
       "_view_name": "ProgressView",
       "bar_style": "success",
       "description": "",
       "description_tooltip": null,
       "layout": "IPY_MODEL_d966d29a9b3e4ef0807e3eaa8fced67e",
       "max": 59,
       "min": 0,
       "orientation": "horizontal",
       "style": "IPY_MODEL_0b8476f9560e4dbc8a7d288c0b2004c8",
       "value": 59
      }
     },
     "fcf689e902404b85b99186d25d906233": {
      "model_module": "@jupyter-widgets/base",
      "model_module_version": "1.2.0",
      "model_name": "LayoutModel",
      "state": {
       "_model_module": "@jupyter-widgets/base",
       "_model_module_version": "1.2.0",
       "_model_name": "LayoutModel",
       "_view_count": null,
       "_view_module": "@jupyter-widgets/base",
       "_view_module_version": "1.2.0",
       "_view_name": "LayoutView",
       "align_content": null,
       "align_items": null,
       "align_self": null,
       "border": null,
       "bottom": null,
       "display": null,
       "flex": null,
       "flex_flow": null,
       "grid_area": null,
       "grid_auto_columns": null,
       "grid_auto_flow": null,
       "grid_auto_rows": null,
       "grid_column": null,
       "grid_gap": null,
       "grid_row": null,
       "grid_template_areas": null,
       "grid_template_columns": null,
       "grid_template_rows": null,
       "height": null,
       "justify_content": null,
       "justify_items": null,
       "left": null,
       "margin": null,
       "max_height": null,
       "max_width": null,
       "min_height": null,
       "min_width": null,
       "object_fit": null,
       "object_position": null,
       "order": null,
       "overflow": null,
       "overflow_x": null,
       "overflow_y": null,
       "padding": null,
       "right": null,
       "top": null,
       "visibility": null,
       "width": null
      }
     }
    },
    "version_major": 2,
    "version_minor": 0
   }
  }
 },
 "nbformat": 4,
 "nbformat_minor": 5
}
